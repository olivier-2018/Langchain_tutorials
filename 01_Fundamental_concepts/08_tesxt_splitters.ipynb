{
 "cells": [
  {
   "cell_type": "markdown",
   "id": "a752df5d",
   "metadata": {},
   "source": [
    "# Text splitters\n",
    "source: https://python.langchain.com/docs/how_to/#text-splitters\n",
    "\n",
    "Text Splitters take a document and split into chunks that can be used for retrieval.\n",
    "\n",
    "- recursively split text\n",
    "- split HTML\n",
    "- split by character\n",
    "- split code\n",
    "- split Markdown by headers\n",
    "- recursively split JSON\n",
    "- split text into semantic chunks\n",
    "- split by tokens\n"
   ]
  },
  {
   "cell_type": "markdown",
   "id": "4b326ff7",
   "metadata": {},
   "source": [
    "## Text splitters"
   ]
  },
  {
   "cell_type": "code",
   "execution_count": 9,
   "id": "6059f5a6",
   "metadata": {},
   "outputs": [
    {
     "name": "stdout",
     "output_type": "stream",
     "text": [
      "--- chunk 1:\n",
      " page_content='THE LITTLE PRINCE \n",
      "\n",
      "Antoine De Saint-Exupery \n",
      "\n",
      "\n",
      "Antoine de Saint-Exupery, who was a French author, journalist and pilot wrote \n",
      "The Little Prince in 1943, one year before his death.'\n",
      "\n",
      "--- chunk 2:\n",
      " page_content='The Little Prince appears to be a simple children’s tale, \n",
      "some would say that it is actually a profound and deeply moving tale, \n",
      "written in riddles and laced with philosophy and poetic metaphor.'\n"
     ]
    }
   ],
   "source": [
    "from langchain_text_splitters import RecursiveCharacterTextSplitter\n",
    "\n",
    "filepath = \"../assets/lepetitprince.txt\"\n",
    "\n",
    "# Load example document\n",
    "with open(filepath) as f:\n",
    "    state_of_the_union = f.read()\n",
    "\n",
    "text_splitter = RecursiveCharacterTextSplitter(\n",
    "    # Set a really small chunk size, just to show.\n",
    "    chunk_size=250,\n",
    "    chunk_overlap=20,\n",
    "    length_function=len,\n",
    "    is_separator_regex=True,\n",
    ")\n",
    "texts = text_splitter.create_documents([state_of_the_union])\n",
    "print(\"--- chunk 1:\\n\",texts[0])\n",
    "print(\"\\n--- chunk 2:\\n\",texts[1])"
   ]
  },
  {
   "cell_type": "code",
   "execution_count": null,
   "id": "41fc1b78",
   "metadata": {},
   "outputs": [
    {
     "name": "stdout",
     "output_type": "stream",
     "text": [
      "--- chunk 1:\n",
      " page_content='THE LITTLE PRINCE \n",
      "\n",
      "Antoine De Saint-Exupery \n",
      "\n",
      "\n",
      "Antoine de Saint-Exupery, who was a French author, journalist and pilot wrote \n",
      "The Little Prince in 1943, one year before his death.'\n",
      "\n",
      "--- chunk 2:\n",
      " page_content='The Little Prince appears to be a simple children’s tale, \n",
      "some would say that it is actually a profound and deeply moving tale, \n",
      "written in riddles and laced with philosophy and poetic metaphor.'\n"
     ]
    }
   ],
   "source": [
    "with open(filepath) as f:\n",
    "    state_of_the_union = f.read()\n",
    "\n",
    "text_splitter = RecursiveCharacterTextSplitter(\n",
    "    chunk_size=250,\n",
    "    chunk_overlap=20,\n",
    "    length_function=len,\n",
    "    is_separator_regex=False,\n",
    "    separators=[\n",
    "        \"\\n\\n\",\n",
    "        \"\\n\",\n",
    "        ],\n",
    "    # Existing args\n",
    ")\n",
    "\n",
    "texts = text_splitter.create_documents([state_of_the_union])\n",
    "print(\"--- chunk 1:\\n\",texts[0])\n",
    "print(\"\\n--- chunk 2:\\n\",texts[1])"
   ]
  },
  {
   "cell_type": "code",
   "execution_count": null,
   "id": "165061de",
   "metadata": {},
   "outputs": [],
   "source": []
  }
 ],
 "metadata": {
  "kernelspec": {
   "display_name": ".venv",
   "language": "python",
   "name": "python3"
  },
  "language_info": {
   "codemirror_mode": {
    "name": "ipython",
    "version": 3
   },
   "file_extension": ".py",
   "mimetype": "text/x-python",
   "name": "python",
   "nbconvert_exporter": "python",
   "pygments_lexer": "ipython3",
   "version": "3.12.11"
  }
 },
 "nbformat": 4,
 "nbformat_minor": 5
}
