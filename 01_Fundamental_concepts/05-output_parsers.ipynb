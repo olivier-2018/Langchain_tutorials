{
 "cells": [
  {
   "cell_type": "markdown",
   "id": "9442ff87",
   "metadata": {},
   "source": [
    "# Output Parsers\n",
    "\n",
    "Output Parsers are responsible for taking the output of an LLM and parsing into more structured format.\n",
    "\n",
    "Features:\n",
    "- parse text from message objects\n",
    "- use output parsers to parse an LLM response into structured format\n",
    "- parse JSON output\n",
    "- parse XML output\n",
    "- parse YAML output\n",
    "- retry when output parsing errors occur\n",
    "- try to fix errors in output parsing\n",
    "- write a custom output parser class\n"
   ]
  },
  {
   "cell_type": "markdown",
   "id": "e7e93734",
   "metadata": {},
   "source": [
    "## parse text from message objects"
   ]
  },
  {
   "cell_type": "code",
   "execution_count": null,
   "id": "4a0b6ac1",
   "metadata": {},
   "outputs": [],
   "source": [
    "from langchain_anthropic import ChatAnthropic\n",
    "\n",
    "llm = ChatAnthropic(model=\"claude-3-5-latest\")\n",
    "    # model_name=\"claude-3-5-haiku-latest\")\n",
    "\n",
    "response = llm.invoke(\"Hello\")\n",
    "response.content"
   ]
  },
  {
   "cell_type": "markdown",
   "id": "08ca83a2",
   "metadata": {},
   "source": [
    "## write a custom output parser class"
   ]
  },
  {
   "cell_type": "code",
   "execution_count": null,
   "id": "464b6b7a",
   "metadata": {},
   "outputs": [],
   "source": []
  }
 ],
 "metadata": {
  "kernelspec": {
   "display_name": ".venv",
   "language": "python",
   "name": "python3"
  },
  "language_info": {
   "codemirror_mode": {
    "name": "ipython",
    "version": 3
   },
   "file_extension": ".py",
   "mimetype": "text/x-python",
   "name": "python",
   "nbconvert_exporter": "python",
   "pygments_lexer": "ipython3",
   "version": "3.12.10"
  }
 },
 "nbformat": 4,
 "nbformat_minor": 5
}
