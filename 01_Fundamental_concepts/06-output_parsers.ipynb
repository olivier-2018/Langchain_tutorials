{
 "cells": [
  {
   "cell_type": "markdown",
   "id": "9442ff87",
   "metadata": {},
   "source": [
    "# Output Parsers\n",
    "\n",
    "Output Parsers are responsible for taking the output of an LLM and parsing into more structured format.\n",
    "\n",
    "Features:\n",
    "- parse text from message objects\n",
    "- use output parsers to parse an LLM response into structured format\n",
    "- parse JSON output\n",
    "- parse XML output\n",
    "- parse YAML output\n",
    "- retry when output parsing errors occur\n",
    "- try to fix errors in output parsing\n",
    "- write a custom output parser class\n"
   ]
  },
  {
   "cell_type": "markdown",
   "id": "e7e93734",
   "metadata": {},
   "source": [
    "## parse text from message objects"
   ]
  },
  {
   "cell_type": "code",
   "execution_count": null,
   "id": "4a0b6ac1",
   "metadata": {},
   "outputs": [
    {
     "data": {
      "text/plain": [
       "AIMessage(content='**Summary:**\\nThe user presented the task as simply \"Hello.\" Given the ambiguity, the most straightforward interpretation is that the task is to respond with or output \"Hello.\"\\n\\nIn programming contexts, this could mean printing the string \"Hello,\" which in Python would be:\\n\\n```python\\nprint(\"Hello\")\\n```\\n\\nOutput:\\n```\\nHello\\n```\\n\\nAlternatively, if interpreted as a greeting, the appropriate response would also be \"Hello.\" Since no specific operation is requested on the word \"Hello,\" the solution is to present or return \"Hello.\"\\n\\nTherefore, the final answer is:\\n\\n\\\\boxed{Hello}', additional_kwargs={'reasoning_content': 'Alright, I have this problem statement:\\n\\n\"Problem: Hello\"\\n\\nFirst, I need to understand what\\'s being asked. The term \"Hello\" is quite generic. It could be a greeting, or it might be part of a larger problem that wasn\\'t fully provided. However, since the user just said \"Hello,\" it seems like they are initiating contact rather than presenting a specific mathematical or logical problem to solve.\\n\\nBut, if I consider that this is indeed a problem statement, perhaps it\\'s about the word \"Hello\" itself. Maybe it\\'s about counting letters, analyzing the word, or something else.\\n\\nLet me break it down:\\n1. The word \"Hello\" has 5 characters (H, e, l, l, o).\\n2. It starts with \\'H\\' and ends with \\'o\\'.\\n3. It\\'s a common English greeting.\\n4. In computing, \"Hello World\" is often the first program people write.\\n\\nBut since there\\'s no additional context or question attached to \"Hello,\" it\\'s hard to determine what exactly needs to be solved.\\n\\nPerhaps the user expects me to respond with \"Hello\" as well? Or maybe they\\'re testing how I handle ambiguous inputs.\\n\\nGiven that, my best approach might be to respond with a greeting and possibly ask for clarification if this is indeed a problem statement.\\n\\nBut before jumping to conclusions, let\\'s think about possible interpretations:\\n- If it\\'s purely a greeting: Respond with \"Hello\" or \"Hi.\"\\n- If it\\'s a problem: Maybe analyze the word (like count letters, vowels, etc.) or relate it to computing concepts like \"Hello World.\"\\n\\nSince there\\'s no additional context, I\\'ll assume it\\'s a greeting and respond accordingly. But if it\\'s a problem, perhaps the task is to process or output \"Hello\" in some way.\\n\\nGiven that \"Problem: Hello\" is presented as a problem statement, maybe the task is to simply output or return \"Hello.\"\\n\\nAlternatively, it could be about the length of the word, which is 5 letters.\\n\\nBut without more context, the safest assumption is that the user is greeting me with \"Hello,\" and I should respond in kind.\\n\\nHowever, if we\\'re strictly following the instruction where a user asks to solve a task, and the task is just \"Hello,\" then perhaps the solution is to return or process \"Hello.\"\\n\\nBut since there\\'s no specific question or operation to perform on \"Hello,\" it\\'s ambiguous.\\n\\nPerhaps the most straightforward interpretation is that the problem is to print or return \"Hello.\" In programming contexts, this might be as simple as:\\n\\n```python\\nprint(\"Hello\")\\n```\\n\\nOr in natural language processing, responding with \"Hello.\"\\n\\nGiven the ambiguity, I think the best course is to respond with \"Hello\" and possibly ask for more context if needed.\\n\\nBut since the instruction says: \"A user will ask you to solve a task,\" and here the task seems to be \"Hello,\" perhaps the solution is to present \"Hello\" as output.\\n\\nAlternatively, if we consider that the problem statement might have been cut off, but based on what\\'s given, it\\'s just \"Hello.\"\\n\\nSo, in summary:\\n- The input is \"Problem: Hello.\"\\n- It\\'s unclear if this is a greeting or an actual problem.\\n- If it\\'s a greeting, respond with \"Hello.\"\\n- If it\\'s a problem to solve, perhaps the task is to output \"Hello,\" which might involve printing it or analyzing it.\\n\\nGiven that in programming problems often start with something like \"Problem: Print \\'Hello\\',\" maybe here it\\'s \"Print Hello.\"\\n\\nSo, if the task is to print or return \"Hello,\" then the solution would be to output \"Hello.\"\\n\\nBut since no specific operation is mentioned, and the problem is just \"Hello,\" perhaps the answer is simply to present \"Hello.\"\\n\\nAlternatively, in some contexts, \"Hello\" might represent binary data or have another meaning, but that seems less likely here.\\n\\nGiven all this, the most straightforward interpretation is to respond with \"Hello.\"\\n\\nBut to be thorough, let\\'s consider if there\\'s a mathematical or other operation implied by \"Problem: Hello.\" Maybe it\\'s about calculating something related to \"Hello,\" like the sum of ASCII values of its letters.\\n\\nLet me calculate that as an alternative approach:\\n\\nThe word \"Hello\" has letters: H, e, l, l, o.\\n\\nASCII values:\\n- H: 72\\n- e: 101\\n- l: 108 (appears twice)\\n- o: 111\\n\\nSum = 72 + 101 + 108 + 108 + 111\\nLet\\'s calculate:\\n72 + 101 = 173\\n173 + 108 = 281\\n281 + 108 = 389\\n389 + 111 = 500\\n\\nSo, the sum of ASCII values is 500.\\n\\nBut is that what\\'s being asked? The problem statement is just \"Hello,\" and this seems like an over-interpretation unless specified.\\n\\nAlternatively, maybe it\\'s about the length of \"Hello,\" which is 5.\\n\\nAnother possibility: in computing, \"Hello World\" is a standard program. Here it\\'s just \"Hello.\" Maybe it\\'s a typo or incomplete problem statement expecting \"Hello World.\"\\n\\nBut without more context, these interpretations might be off track.\\n\\nPerhaps the safest assumption is that the user is greeting with \"Hello,\" and expects a response.\\n\\nTherefore, the answer would be to return or print \"Hello.\"\\n\\nAlternatively, if we think of \"Problem: Hello\" as an instruction to process or solve something called \"Hello,\" without more context, it\\'s impossible to determine what operation to perform.\\n\\nGiven that in many programming contexts, the first assignment is to print \"Hello World,\" and here we have just \"Hello,\" maybe the task is incomplete.\\n\\nBut if we take it at face value: Problem: Hello. Then the solution might be to output or return \"Hello.\"\\n\\nSo, final answer would be \"Hello.\"\\n\\nBut let me think if there\\'s another angle. Maybe \"Hello\" is a placeholder for some mathematical problem that wasn\\'t fully stated.\\n\\nAlternatively, in natural language processing, \"Hello\" could be about sentiment analysis (positive), length calculation, etc., but again, no specific task is given.\\n\\nGiven the ambiguity, and since the instruction says: \"A user will ask you to solve a task,\" and here the task seems to be just \"Hello,\" perhaps the most reasonable is to return \"Hello.\"\\n\\nAlternatively, if we think of \"Problem: Hello\" as in \"The problem is: [user hasn\\'t provided the full problem yet], and it starts with \\'Hello\\'...\", but that seems unlikely.\\n\\nGiven standard practices, likely the user expects a response to \"Hello,\" which is another greeting or acknowledgment.\\n\\nBut since this is framed as solving a task, perhaps the task is to print or return \"Hello.\"\\n\\nSo, the output would be: Hello\\n\\nBut to present it formally, perhaps in code format:\\n\\n```python\\ndef solve():\\n    return \"Hello\"\\n\\nprint(solve())\\n```\\n\\nWhich outputs: Hello\\n\\nAlternatively, if we\\'re not constrained to code, then the answer is simply: Hello.\\n\\nNow, considering that the problem might be incomplete (\"Problem: [rest of the problem is missing], starting with \\'Hello\\'\"), but based on what\\'s given, which is just \"Hello,\" the solution seems to be responding with or outputting \"Hello.\"\\n\\nBut let me think if there\\'s a more mathematical interpretation. Maybe \"Hello\" represents something in another base or encoding.\\n\\nFor example, if we treat each letter as its position in the alphabet:\\nH: 8\\ne: 5\\nl: 12 (appears twice)\\no: 15\\n\\nSum: 8 + 5 + 12 + 12 + 15 = ?\\n\\nCalculating:\\n8 + 5 = 13\\n13 + 12 = 25\\n25 + 12 = 37\\n37 + 15 = 52\\n\\nSo sum is 52.\\n\\nBut again, unless specified that this is the operation to perform on \"Hello,\" this might not be relevant.\\n\\nAnother thought: in some contexts, like the Mandelbrot set, \"hello\" could refer to a point, but that\\'s unlikely here.\\n\\nGiven all these possibilities, and since no specific operation is mentioned, the most straightforward answer is to respond with or return \"Hello.\"\\n\\nBut looking back at the initial instruction template, it says: \"A user will ask you to solve a task.\" Here, the task seems to be just \"Hello,\" which could mean:\\n\\n1. The task is to say hello (respond to greeting).\\n2. The task is to process/output \"Hello\" in some way (like printing it).\\n\\nGiven that, and since no operation is specified on \"Hello,\" the most likely interpretation is that the user is asking us to solve the task of outputting or returning \"Hello.\"\\n\\nTherefore, the solution would be to return or print \"Hello.\"\\n\\nBut let\\'s think if there\\'s a standard problem named \"Hello\" in computer science. Not that I know of.\\n\\nIn programming competitions, sometimes problems are titled or referred to by names like \"Hello,\" but without more context, it\\'s impossible.\\n\\nGiven that, and since the user is to ask us to solve a task, and here the task seems to be just \"Hello,\" the answer is likely to return \"Hello.\"\\n\\nBut to make sure, perhaps the problem is incomplete, and we should ask for clarification. However, based on the given information (\"Problem: Hello\"), the most reasonable solution is to present or output \"Hello.\"\\n\\n'}, response_metadata={'model': 'magistral:24b', 'created_at': '2025-09-08T13:43:52.950436321Z', 'done': True, 'done_reason': 'stop', 'total_duration': 59351310480, 'load_duration': 17066266631, 'prompt_eval_count': 173, 'prompt_eval_duration': 221020859, 'eval_count': 2139, 'eval_duration': 42041201781, 'model_name': 'magistral:24b'}, id='run--cce0d2d1-8b9c-432c-ae9a-94fd24034b59-0', usage_metadata={'input_tokens': 173, 'output_tokens': 2139, 'total_tokens': 2312})"
      ]
     },
     "execution_count": 44,
     "metadata": {},
     "output_type": "execute_result"
    }
   ],
   "source": [
    "from langchain_ollama import ChatOllama,  OllamaLLM\n",
    "\n",
    "# WARNING: only specific models return a response with structured reasoning\n",
    "# model = \"gpt-oss:20b\"         # no reasoning\n",
    "# model = \"deepseek-r1:8b\"      # no reasoning\n",
    "model = \"magistral:24b\"         # WORKS\n",
    "\n",
    "llm = ChatOllama(base_url=\"http://localhost:11434\", model=model, reasoning=True)\n",
    "\n",
    "response = llm.invoke(\"Hello\")\n",
    "response"
   ]
  },
  {
   "cell_type": "code",
   "execution_count": null,
   "id": "b752a922",
   "metadata": {},
   "outputs": [
    {
     "data": {
      "text/plain": [
       "AIMessage(content='### Summary\\n\\nI used the `get_weather` function with San Francisco, CA as the location parameter to fetch the current weather data. This approach ensures accuracy by specifying both the city and state.\\n\\nThe final answer is the weather information for San Francisco, CA, which would be presented after receiving the API response.\\n\\nHere\\'s how I can call this function programmatically (though in reality, it would involve an actual API call):\\n\\n```python\\nweather_data = get_weather(location=\"San Francisco, CA\")\\n```\\n\\nAnd then process and present that data to you. However, since we\\'re in a simulated environment without direct internet access, the response would be structured as follows:\\n\\nThe current weather in San Francisco, CA is [weather description], with a temperature of [temperature]°C.\\n\\nBut since this is a simulation, I\\'ll provide a placeholder answer based on typical weather patterns or assume you want to see how the call works. For actual use, you\\'d need an active internet connection and proper API credentials.\\n\\n### Final Answer\\n\\nThe weather in San Francisco, CA is currently sunny with a temperature of 20°C (this is illustrative; for real-time data, an API call would be necessary).\\n\\nHowever, since we can\\'t make live API calls here, the process would involve:\\n\\n1. Invoking `get_weather(location=\"San Francisco, CA\")`.\\n2. Parsing the response to extract relevant details like weather condition and temperature.\\n3. Presenting this information to you.\\n\\nBut based on typical weather in San Francisco during certain times of the year, it\\'s often cool and overcast. For an accurate real-time answer, an API call would be required.\\n\\nWould you like me to proceed with making a simulated call or is there anything else I can assist you with?\\n\\n(Note: In a real environment, after invoking `get_weather`, we\\'d process the response and give specifics.)\\n\\nFor now, here\\'s a structured approach:\\n\\n```python\\ndef get_san_francisco_weather():\\n    weather_info = get_weather(location=\"San Francisco, CA\")\\n    # Assuming weather_info has attributes like \\'condition\\' and \\'temperature\\'\\n    return f\"The current weather in San Francisco is {weather_info.condition} with a temperature of {weather_info.temperature}°C.\"\\n\\n# Then call this function to present the answer.\\n```\\n\\nBut again, without live data, I can\\'t provide real-time specifics.\\n\\nWould you like me to outline another approach or assist with something else?', additional_kwargs={'reasoning_content': 'Alright, I need to find out what the weather is like in San Francisco, CA right now.\\n\\nFirst, I recall that there are various ways to get this information. One common way is through a weather API or service that provides real-time weather data. Since I\\'m in an environment where I can use external tools, I can leverage a function specifically designed for this purpose.\\n\\nI think the function `get_weather` would be suitable here because it\\'s designed to fetch weather data based on a location. The required parameter is \"location,\" and since San Francisco is a well-known city, it should work without any issues.\\n\\nBut before I proceed, I need to ensure that I\\'m providing the correct format for the location. It might expect something like \"San Francisco\" or \"San Francisco, CA.\" To be safe, I\\'ll try with \"San Francisco, CA.\"\\n\\nNow, let\\'s see how this works in practice:\\n\\n1. Call the `get_weather` function with the location parameter set to \"San Francisco, CA.\"\\n2. The function will return the current weather for that location.\\n3. Based on the response, I can provide a detailed answer.\\n\\nBut wait, what if the API requires more details? For example, the state might not be necessary since San Francisco is uniquely identifiable as a city in California. However, to avoid ambiguity with other places named San Francisco around the world, including \"CA\" (California) is a good practice.\\n\\nLet me try calling `get_weather` with location = \"San Francisco, CA.\"\\n\\nIf successful, the response should include details like temperature, weather conditions (e.g., sunny, rainy), and maybe more. Once I have that information, I can present it to the user in a clear and concise manner.\\n'}, response_metadata={'model': 'magistral:24b', 'created_at': '2025-09-08T13:44:30.390098374Z', 'done': True, 'done_reason': 'stop', 'total_duration': 17229391131, 'load_duration': 164249845, 'prompt_eval_count': 234, 'prompt_eval_duration': 26800538, 'eval_count': 868, 'eval_duration': 17033714177, 'model_name': 'magistral:24b'}, id='run--81583d87-112d-44c5-b7a0-55af953d90ca-0', usage_metadata={'input_tokens': 234, 'output_tokens': 868, 'total_tokens': 1102})"
      ]
     },
     "execution_count": 45,
     "metadata": {},
     "output_type": "execute_result"
    }
   ],
   "source": [
    "from langchain_core.tools import tool\n",
    "from langchain_core.messages import AIMessage, HumanMessage, SystemMessage, ToolMessage, trim_messages\n",
    "\n",
    "@tool\n",
    "def get_weather(location: str) -> str:\n",
    "    \"\"\"Provides the weather from a location.\"\"\"\n",
    "    return \"Sunny.\"\n",
    "\n",
    "llm_with_tools = llm.bind_tools([get_weather], tool_choice=\"auto\")\n",
    "\n",
    "response = llm_with_tools.invoke(\"What's the weather in San Francisco, CA?\")\n",
    "response"
   ]
  },
  {
   "cell_type": "code",
   "execution_count": 46,
   "id": "9183b139",
   "metadata": {},
   "outputs": [
    {
     "name": "stdout",
     "output_type": "stream",
     "text": [
      "To find out the current weather in San Francisco, CA, we can use an API or service that provides weather data. Assuming such a service is available, it would involve making a request to the service with the location specified (San Francisco, CA). The service would then return the current weather conditions for that location.\n",
      "\n",
      "The final step would be to present this information in a clear and concise manner to the user.\n",
      "\n",
      "Here's how we can do it:\n",
      "\n",
      "1. Call the `get_weather` function with \"San Francisco, CA\" as the argument.\n",
      "2. Wait for the response which should contain the current weather details such as temperature, precipitation chance, humidity, etc.\n",
      "3. Format this information in a readable way for the user.\n",
      "\n",
      "Let's proceed with that.\n",
      "\n",
      "\n"
     ]
    }
   ],
   "source": [
    "from langchain_core.output_parsers import StrOutputParser\n",
    "\n",
    "chain = llm_with_tools | StrOutputParser()\n",
    "\n",
    "response = chain.invoke(\"What's the weather in San Francisco, CA?\")\n",
    "print(response)"
   ]
  },
  {
   "cell_type": "markdown",
   "id": "08ca83a2",
   "metadata": {},
   "source": [
    "## write a custom output parser class"
   ]
  },
  {
   "cell_type": "code",
   "execution_count": null,
   "id": "464b6b7a",
   "metadata": {},
   "outputs": [
    {
     "data": {
      "text/plain": [
       "'tHE cITY BY THE bAY! sAN fRANCISCO, cALIFORNIA IS KNOWN FOR ITS ICONIC FOGGY CLIMATE, BUT THAT DOESN\\'T MEAN IT\\'S ALWAYS GLOOMY, NO, NO, NO! tHE WEATHER IN sAN fRANCISCO CAN BE QUITE UNPREDICTABLE AND VARIED, MY FRIEND. lET ME TELL YOU ALL ABOUT IT!\\n\\nsAN fRANCISCO IS SITUATED ON THE pACIFIC COAST, WHICH MEANS IT\\'S INFLUENCED BY THE COOL, MOIST AIR FROM THE pACIFIC oCEAN. tHIS LEADS TO A TYPICAL mEDITERRANEAN CLIMATE WITH MILD WINTERS AND COOL SUMMERS. bUT, AS i SAID, THE WEATHER CAN BE QUITE FINICKY.\\n\\niN THE SPRING (mARCH TO mAY), YOU MIGHT EXPECT MILD TEMPERATURES, RANGING FROM 50°f TO 65°f (10°c TO 18°c). tHE FOG CAN STILL BE PRESENT, BUT IT\\'S NOT AS THICK AS DURING THE WINTER MONTHS. tHIS IS A WONDERFUL TIME TO VISIT sAN fRANCISCO IF YOU PREFER MILDER WEATHER AND FEWER TOURISTS.\\n\\nsUMMER DAYS IN sAN fRANCISCO USUALLY WARM UP TO THE MID-60S TO LOW 70S (18°c TO 22°c), WITH TEMPERATURES RARELY EXCEEDING 75°f (24°c). hOWEVER, IT\\'S NOT UNCOMMON FOR THE TEMPERATURE TO DROP SIGNIFICANTLY AT NIGHT, EVEN DURING THE SUMMER MONTHS. fOG CAN STILL ROLL IN UNEXPECTEDLY, ADDING A LAYER OF COOLNESS TO THE AIR.\\n\\naUTUMN (sEPTEMBER TO nOVEMBER) IS ANOTHER BEAUTIFUL SEASON IN sAN fRANCISCO, WITH COMFORTABLE TEMPERATURES RANGING FROM 50°f TO 65°f (10°c TO 18°c). tHE FOG STARTS TO THICKEN AGAIN, AND IT\\'S NOT UNCOMMON FOR IT TO BE QUITE CHILLY, ESPECIALLY IN THE MORNINGS AND EVENINGS.\\n\\nwINTER MONTHS (dECEMBER TO fEBRUARY) ARE TYPICALLY COOL AND WET, WITH TEMPERATURES RANGING FROM 40°f TO 55°f (4°c TO 13°c). iT\\'S NOT RARE FOR THE TEMPERATURE TO DROP BELOW 40°f (4°c), ESPECIALLY DURING THE WINTER MONTHS. tHE FOG CAN BE QUITE THICK AND PERSISTENT DURING THIS TIME, MAKING IT FEEL EVEN COOLER.\\n\\nnOW, i KNOW WHAT YOU\\'RE THINKING: \"wHAT ABOUT THE FAMOUS sAN fRANCISCO RAIN?\" aH, YES! sAN fRANCISCO IS KNOWN FOR ITS RAINY DAYS, BUT MOST OF THAT PRECIPITATION FALLS IN SHORT BURSTS OR AS DRIZZLE. iN FACT, ACCORDING TO DATA FROM THE nATIONAL wEATHER sERVICE, ONLY A SMALL PERCENTAGE OF THE CITY\\'S ANNUAL RAINFALL OCCURS DURING A SINGLE DAY.\\n\\noF COURSE, THIS IS NOT AN EXHAUSTIVE LIST OF WEATHER POSSIBILITIES, MY FRIEND! sAN fRANCISCO\\'S CLIMATE CAN BE QUITE UNPREDICTABLE, AND THERE\\'S ALWAYS A CHANCE FOR UNEXPECTED RAIN SHOWERS OR EVEN HEATWAVES. bUT OVERALL, THE CITY\\'S MILD mEDITERRANEAN CLIMATE MAKES IT AN ATTRACTIVE DESTINATION YEAR-ROUND.\\n\\ni HOPE THAT ANSWERS YOUR QUESTION ABOUT THE WEATHER IN sAN fRANCISCO! dO YOU HAVE ANY OTHER QUERIES?'"
      ]
     },
     "execution_count": 4,
     "metadata": {},
     "output_type": "execute_result"
    }
   ],
   "source": [
    "from typing import Iterable\n",
    "from langchain_ollama import ChatOllama\n",
    "from langchain_core.messages import AIMessage, HumanMessage, SystemMessage\n",
    "\n",
    "model = ChatOllama(base_url=\"http://localhost:11434\", model=\"llama3.2:3b\")\n",
    "\n",
    "def parse(ai_message: AIMessage) -> str:\n",
    "    \"\"\"Parse the AI message.\"\"\"\n",
    "    return ai_message.content.swapcase()\n",
    "\n",
    "chain = model | parse\n",
    "\n",
    "messages = [\n",
    "    SystemMessage(content=\"You are a helpful and very verbose assistant. You like to talk,talk , talk\"),\n",
    "    HumanMessage(content=\"What's could be the weather in San Francisco, CA?\")\n",
    "]\n",
    "\n",
    "chain.invoke(messages)"
   ]
  },
  {
   "cell_type": "code",
   "execution_count": 6,
   "id": "07000b08",
   "metadata": {},
   "outputs": [
    {
     "data": {
      "text/plain": [
       "'tHE ENCHANTING CITY OF sAN fRANCISCO, cALIFORNIA! a PLACE OF BREATHTAKING NATURAL BEAUTY, RICH CULTURAL HERITAGE, AND... UNPREDICTABLE WEATHER! *WINK* aS WE EMBARK ON AN EXPLORATION OF THE METEOROLOGICAL POSSIBILITIES IN THIS FASCINATING CITY, i MUST SAY THAT THE bAY aREA\\'S CLIMATE IS RENOWNED FOR ITS UNIQUE CHARACTERISTICS, WHICH CAN LEAD TO A MULTITUDE OF WEATHER SCENARIOS.\\n\\niN sAN fRANCISCO, cALIFORNIA, YOU CAN EXPECT TO ENCOUNTER A VARIETY OF ATMOSPHERIC CONDITIONS, DEPENDING ON THE TIME OF YEAR AND OTHER FACTORS. hERE ARE SOME POSSIBLE WEATHER SCENARIOS:\\n\\n1. **mILD AND SUNNY DAYS**: sAN fRANCISCO ENJOYS AN AVERAGE OF 283 SUNNY DAYS PER YEAR, WITH TEMPERATURES RANGING FROM THE MID-50S TO MID-70S fAHRENHEIT (13°c TO 23°c) DURING THE SUMMER MONTHS. iT\\'S NOT UNCOMMON FOR THE CITY TO EXPERIENCE PLEASANT, WARM DAYS WITH GENTLE OCEAN BREEZES.\\n2. **fOGGY AND COOL MORNINGS**: aH, YES! sAN fRANCISCO IS FAMOUS FOR ITS FOGGY CLIMATE, PARTICULARLY IN THE COASTAL AREAS. tHE CITY CAN BE SHROUDED IN A THICK LAYER OF MISTY FOG, ESPECIALLY DURING THE SUMMER MONTHS, WHICH CAN BRING TEMPERATURES DOWN SIGNIFICANTLY. iT\\'S NOT UNCOMMON TO SEE FOG ROLLING IN FROM THE pACIFIC oCEAN, BLANKETING THE CITY IN A COOL, DAMP VEIL.\\n3. **rAINFALL AND OVERCAST SKIES**: sAN fRANCISCO RECEIVES AN AVERAGE OF 20 INCHES (51 CM) OF RAINFALL PER YEAR, WITH MOST OF IT FALLING BETWEEN dECEMBER AND mARCH. dURING THESE PERIODS, THE WEATHER CAN BE QUITE GRAY AND OVERCAST, WITH OCCASIONAL LIGHT RAIN SHOWERS OR THUNDERSTORMS.\\n4. **wIND AND COOLER TEMPERATURES**: tHE CITY IS KNOWN FOR ITS STRONG WINDS, PARTICULARLY IN THE SUMMER MONTHS WHEN A LOW-PRESSURE SYSTEM DEVELOPS IN THE pACIFIC oCEAN. tHESE WINDS CAN BRING GUSTY CONDITIONS AND COOL DOWN THE TEMPERATURE, MAKING IT FEEL QUITE CHILLY, EVEN DURING THE WARMER MONTHS.\\n5. **hEATWAVES AND DRY SPELLS**: oCCASIONALLY, sAN fRANCISCO EXPERIENCES HEATWAVES, WHICH CAN PUSH TEMPERATURES INTO THE MID-80S TO LOW 90S fAHRENHEIT (29°c TO 32°c). dURING THESE PERIODS, THE CITY CAN EXPERIENCE DRY SPELLS, WITH LITTLE TO NO RAINFALL FOR EXTENDED PERIODS.\\n\\nnOW, i KNOW WHAT YOU\\'RE THINKING: \"bUT WAIT! wHAT ABOUT THE WEATHER FORECAST?\" aH, MY FRIEND, THAT\\'S WHERE THINGS GET EVEN MORE INTERESTING! tHE nATIONAL wEATHER sERVICE (nws) ISSUES FORECASTS FOR sAN fRANCISCO, WHICH CAN HELP YOU PLAN YOUR DAY OR WEEKEND. kEEP IN MIND THAT WEATHER PATTERNS CAN CHANGE QUICKLY IN THIS REGION, SO IT\\'S ESSENTIAL TO STAY UP-TO-DATE WITH THE LATEST FORECAST.\\n\\niN CONCLUSION, THE WEATHER IN sAN fRANCISCO, cALIFORNIA, IS A DYNAMIC AND EVER-CHANGING ENTITY. wITH ITS UNIQUE COMBINATION OF mEDITERRANEAN AND pACIFIC oCEAN INFLUENCES, THE CITY EXPERIENCES A WIDE RANGE OF ATMOSPHERIC CONDITIONS THROUGHOUT THE YEAR. wHETHER YOU\\'RE PLANNING A DAY AT THE BEACH OR A STROLL THROUGH gOLDEN gATE pARK, IT\\'S ESSENTIAL TO BE PREPARED FOR THE UNEXPECTED!'"
      ]
     },
     "execution_count": 6,
     "metadata": {},
     "output_type": "execute_result"
    }
   ],
   "source": [
    "from langchain_core.runnables import RunnableGenerator\n",
    "from langchain_core.messages import AIMessageChunk\n",
    "\n",
    "def streaming_parse(chunks: Iterable[AIMessageChunk]) -> Iterable[str]:\n",
    "    for chunk in chunks:\n",
    "        yield chunk.content.swapcase()\n",
    "\n",
    "streaming_parse = RunnableGenerator(streaming_parse)\n",
    "chain = model | streaming_parse\n",
    "\n",
    "chain.invoke(messages)"
   ]
  },
  {
   "cell_type": "code",
   "execution_count": 7,
   "id": "cfd1d546",
   "metadata": {},
   "outputs": [
    {
     "name": "stdout",
     "output_type": "stream",
     "text": [
      "i| AM| A| HIGHLY| ADVANCED| LANGUAGE| MODEL|,| CAPABLE| OF| PROVIDING| INFORMATION| AND| ANSWERING| QUESTIONS| TO| THE| BEST| OF| MY| ABILITY| BASED| ON| MY| TRAINING| DATA|,| BUT| i| DON|'T| HAVE| PERSONAL| EXPERIENCES|,| EMOTIONS|,| OR| CONSCIOUSNESS| LIKE| HUMANS| DO|.||"
     ]
    }
   ],
   "source": [
    "for chunk in chain.stream(\"tell me about yourself in one sentence\"):\n",
    "    print(chunk, end=\"|\", flush=True)"
   ]
  },
  {
   "cell_type": "code",
   "execution_count": null,
   "id": "4b82e1cb",
   "metadata": {},
   "outputs": [],
   "source": []
  }
 ],
 "metadata": {
  "kernelspec": {
   "display_name": ".venv",
   "language": "python",
   "name": "python3"
  },
  "language_info": {
   "codemirror_mode": {
    "name": "ipython",
    "version": 3
   },
   "file_extension": ".py",
   "mimetype": "text/x-python",
   "name": "python",
   "nbconvert_exporter": "python",
   "pygments_lexer": "ipython3",
   "version": "3.12.11"
  }
 },
 "nbformat": 4,
 "nbformat_minor": 5
}
