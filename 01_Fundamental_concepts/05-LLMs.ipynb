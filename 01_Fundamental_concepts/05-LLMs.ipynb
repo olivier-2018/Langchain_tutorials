{
 "cells": [
  {
   "cell_type": "markdown",
   "id": "a2ad1dea",
   "metadata": {},
   "source": [
    "# LLMs\n",
    "source: https://python.langchain.com/docs/how_to/#llms\n",
    "\n",
    "What LangChain calls LLMs are older forms of language models that take a string in and output a string.\n",
    "\n",
    "Features:\n",
    "- cache model responses\n",
    "- create a custom LLM class\n",
    "- stream a response back\n",
    "- track token usage\n",
    "- work with local models\n"
   ]
  },
  {
   "cell_type": "markdown",
   "id": "14f0ed1a",
   "metadata": {},
   "source": [
    "## cache LLM responses\n",
    "\n",
    "Caching layer for LLMs is useful for two reasons:\n",
    "- saves money by reducing the number of API calls to the LLM provider\n",
    "- can speed up application by reducing the number of API calls you make to the LLM provider."
   ]
  },
  {
   "cell_type": "code",
   "execution_count": 1,
   "id": "b12cecfd",
   "metadata": {},
   "outputs": [],
   "source": [
    "from langchain_core.globals import set_llm_cache\n",
    "from langchain_openai import OpenAI\n",
    "from langchain_ollama import ChatOllama\n",
    "from langchain_core.caches import InMemoryCache\n",
    "\n",
    "set_llm_cache(InMemoryCache())"
   ]
  },
  {
   "cell_type": "code",
   "execution_count": 3,
   "id": "4caa4734",
   "metadata": {},
   "outputs": [
    {
     "name": "stdout",
     "output_type": "stream",
     "text": [
      "CPU times: user 72.7 ms, sys: 8.5 ms, total: 81.2 ms\n",
      "Wall time: 3.96 s\n"
     ]
    },
    {
     "data": {
      "text/plain": [
       "AIMessage(content=\"Sure, here's one:\\n\\nWhy don't scientists trust atoms?\\nBecause they make up everything!\\n\\nI hope you found that amusing! Do you want to hear another one?\", additional_kwargs={}, response_metadata={'model': 'llama2:7b', 'created_at': '2025-09-08T10:21:02.160104396Z', 'done': True, 'done_reason': 'stop', 'total_duration': 3892996750, 'load_duration': 3442655488, 'prompt_eval_count': 26, 'prompt_eval_duration': 160595979, 'eval_count': 46, 'eval_duration': 289122696, 'model_name': 'llama2:7b'}, id='run--a557b981-a7a3-4f82-bedd-d608099a451e-0', usage_metadata={'input_tokens': 26, 'output_tokens': 46, 'total_tokens': 72})"
      ]
     },
     "execution_count": 3,
     "metadata": {},
     "output_type": "execute_result"
    }
   ],
   "source": [
    "%%time\n",
    "# To make the caching really obvious, let's use a slower and older model.\n",
    "# llm = OpenAI(model=\"gpt-3.5-turbo-instruct\", n=2, best_of=2)\n",
    "llm = ChatOllama(base_url=\"http://localhost:11434\", model=\"llama2:7b\", temperature=0.)\n",
    "\n",
    "\n",
    "set_llm_cache(InMemoryCache())\n",
    "\n",
    "# The first time, it is not yet in cache, so it should take longer\n",
    "llm.invoke(\"Tell me a joke\")"
   ]
  },
  {
   "cell_type": "code",
   "execution_count": 4,
   "id": "65b99dcd",
   "metadata": {},
   "outputs": [
    {
     "name": "stdout",
     "output_type": "stream",
     "text": [
      "CPU times: user 371 μs, sys: 95 μs, total: 466 μs\n",
      "Wall time: 443 μs\n"
     ]
    },
    {
     "data": {
      "text/plain": [
       "AIMessage(content=\"Sure, here's one:\\n\\nWhy don't scientists trust atoms?\\nBecause they make up everything!\\n\\nI hope you found that amusing! Do you want to hear another one?\", additional_kwargs={}, response_metadata={'model': 'llama2:7b', 'created_at': '2025-09-08T10:21:02.160104396Z', 'done': True, 'done_reason': 'stop', 'total_duration': 3892996750, 'load_duration': 3442655488, 'prompt_eval_count': 26, 'prompt_eval_duration': 160595979, 'eval_count': 46, 'eval_duration': 289122696, 'model_name': 'llama2:7b'}, id='run--a557b981-a7a3-4f82-bedd-d608099a451e-0', usage_metadata={'input_tokens': 26, 'output_tokens': 46, 'total_tokens': 72, 'total_cost': 0})"
      ]
     },
     "execution_count": 4,
     "metadata": {},
     "output_type": "execute_result"
    }
   ],
   "source": [
    "%%time\n",
    "# The second time it is, so it goes faster\n",
    "llm.invoke(\"Tell me a joke\")"
   ]
  },
  {
   "cell_type": "code",
   "execution_count": 5,
   "id": "186b9d52",
   "metadata": {},
   "outputs": [],
   "source": [
    "# We can do the same thing with a SQLite cache\n",
    "# !rm .langchain.db\n",
    "from langchain_community.cache import SQLiteCache\n",
    "\n",
    "set_llm_cache(SQLiteCache(database_path=\".langchain.db\"))"
   ]
  },
  {
   "cell_type": "code",
   "execution_count": 6,
   "id": "7f773fe3",
   "metadata": {},
   "outputs": [
    {
     "name": "stdout",
     "output_type": "stream",
     "text": [
      "CPU times: user 21.5 ms, sys: 1.57 ms, total: 23.1 ms\n",
      "Wall time: 3.85 s\n"
     ]
    },
    {
     "data": {
      "text/plain": [
       "AIMessage(content=\"Sure, here's one:\\n\\nWhy don't scientists trust atoms?\\nBecause they make up everything!\\n\\nI hope you found that amusing! Do you want to hear another one?\", additional_kwargs={}, response_metadata={'model': 'llama2:7b', 'created_at': '2025-09-08T10:22:26.309343864Z', 'done': True, 'done_reason': 'stop', 'total_duration': 3832381337, 'load_duration': 3360830118, 'prompt_eval_count': 26, 'prompt_eval_duration': 178174755, 'eval_count': 46, 'eval_duration': 292686606, 'model_name': 'llama2:7b'}, id='run--2d33ecb3-cf54-455b-9c90-f7c19ba8fbed-0', usage_metadata={'input_tokens': 26, 'output_tokens': 46, 'total_tokens': 72})"
      ]
     },
     "execution_count": 6,
     "metadata": {},
     "output_type": "execute_result"
    }
   ],
   "source": [
    "%%time\n",
    "# The first time, it is not yet in cache, so it should take longer\n",
    "llm.invoke(\"Tell me a joke\")"
   ]
  },
  {
   "cell_type": "code",
   "execution_count": 7,
   "id": "29e8b48f",
   "metadata": {},
   "outputs": [
    {
     "name": "stdout",
     "output_type": "stream",
     "text": [
      "CPU times: user 1.35 ms, sys: 1.3 ms, total: 2.66 ms\n",
      "Wall time: 2.01 ms\n"
     ]
    },
    {
     "data": {
      "text/plain": [
       "AIMessage(content=\"Sure, here's one:\\n\\nWhy don't scientists trust atoms?\\nBecause they make up everything!\\n\\nI hope you found that amusing! Do you want to hear another one?\", additional_kwargs={}, response_metadata={'model': 'llama2:7b', 'created_at': '2025-09-08T10:22:26.309343864Z', 'done': True, 'done_reason': 'stop', 'total_duration': 3832381337, 'load_duration': 3360830118, 'prompt_eval_count': 26, 'prompt_eval_duration': 178174755, 'eval_count': 46, 'eval_duration': 292686606, 'model_name': 'llama2:7b'}, id='run--2d33ecb3-cf54-455b-9c90-f7c19ba8fbed-0', usage_metadata={'input_tokens': 26, 'output_tokens': 46, 'total_tokens': 72, 'total_cost': 0})"
      ]
     },
     "execution_count": 7,
     "metadata": {},
     "output_type": "execute_result"
    }
   ],
   "source": [
    "%%time\n",
    "# The second time it is, so it goes faster\n",
    "llm.invoke(\"Tell me a joke\")"
   ]
  },
  {
   "cell_type": "markdown",
   "id": "c3be4344",
   "metadata": {},
   "source": [
    "## create a custom LLM class\n",
    "\n",
    "Create a custom LLM wrapper allows to use your own LLM or a different wrapper than one that is supported in LangChain.\n",
    "\n",
    "Wrapping your LLM with the standard LLM interface allow you to use your LLM in existing LangChain programs with minimal code modifications.\n",
    "\n",
    "As an bonus, your LLM will automatically become a LangChain Runnable and will benefit from some optimizations out of the box, async support, the astream_events API, etc.\n",
    "\n",
    "**Warning** This feature is for **text completion models** but the latest and most popular models are **chat completion models**."
   ]
  },
  {
   "cell_type": "code",
   "execution_count": 8,
   "id": "09692447",
   "metadata": {},
   "outputs": [],
   "source": [
    "# create a custom LLM class\n",
    "from typing import Any, Dict, Iterator, List, Mapping, Optional\n",
    "from langchain_core.callbacks.manager import CallbackManagerForLLMRun\n",
    "from langchain_core.language_models.llms import LLM\n",
    "from langchain_core.outputs import GenerationChunk\n",
    "\n",
    "\n",
    "class CustomLLM(LLM):\n",
    "    \"\"\"A custom chat model that echoes the first `n` characters of the input.\n",
    "    \"\"\"\n",
    "\n",
    "    n: int\n",
    "    \"\"\"The number of characters from the last message of the prompt to be echoed.\"\"\"\n",
    "\n",
    "    def _call(self,\n",
    "                prompt: str,\n",
    "                stop: Optional[List[str]] = None,\n",
    "                run_manager: Optional[CallbackManagerForLLMRun] = None,\n",
    "                **kwargs: Any,\n",
    "            ) -> str:\n",
    "        \"\"\"Run the LLM on the given input.\n",
    "\n",
    "        Args:\n",
    "            prompt: The prompt to generate from.\n",
    "            stop: Stop words to use when generating. Model output is cut off at the first occurrence of any of the stop substrings.\n",
    "                If stop tokens are not supported consider raising NotImplementedError.\n",
    "            run_manager: Callback manager for the run.\n",
    "            **kwargs: Arbitrary additional keyword arguments. These are usually passed\n",
    "                to the model provider API call.\n",
    "\n",
    "        Returns:\n",
    "            The model output as a string. Actual completions SHOULD NOT include the prompt.\n",
    "        \"\"\"\n",
    "        if stop is not None:\n",
    "            raise ValueError(\"stop kwargs are not permitted.\")\n",
    "        return prompt[: self.n]\n",
    "\n",
    "    def _stream( self,\n",
    "                prompt: str,\n",
    "                stop: Optional[List[str]] = None,\n",
    "                run_manager: Optional[CallbackManagerForLLMRun] = None,\n",
    "                **kwargs: Any,\n",
    "            ) -> Iterator[GenerationChunk]:\n",
    "        \"\"\"Stream the LLM on the given prompt.\n",
    "        If not implemented, the default behavior of calls to stream will be to fallback to the non-streaming version of the model and return\n",
    "        the output as a single chunk.\n",
    "\n",
    "        Args:\n",
    "            prompt: The prompt to generate from.\n",
    "            stop: Stop words to use when generating. Model output is cut off at the\n",
    "                first occurrence of any of these substrings.\n",
    "            run_manager: Callback manager for the run.\n",
    "            **kwargs: Arbitrary additional keyword arguments. These are usually passed\n",
    "                to the model provider API call.\n",
    "\n",
    "        Returns:\n",
    "            An iterator of GenerationChunks.\n",
    "        \"\"\"\n",
    "        for char in prompt[: self.n]:\n",
    "            chunk = GenerationChunk(text=char)\n",
    "            if run_manager:\n",
    "                run_manager.on_llm_new_token(chunk.text, chunk=chunk)\n",
    "\n",
    "            yield chunk\n",
    "\n",
    "    @property\n",
    "    def _identifying_params(self) -> Dict[str, Any]:\n",
    "        \"\"\"Return a dictionary of identifying parameters.\"\"\"\n",
    "        return {\n",
    "            # The model name allows users to specify custom token counting\n",
    "            # rules in LLM monitoring applications (e.g., in LangSmith users\n",
    "            # can provide per token pricing for their model and monitor\n",
    "            # costs for the given LLM.)\n",
    "            \"model_name\": \"CustomChatModel\",\n",
    "        }\n",
    "\n",
    "    @property\n",
    "    def _llm_type(self) -> str:\n",
    "        \"\"\"Get the type of language model used by this chat model. Used for logging purposes only.\"\"\"\n",
    "        return \"custom\""
   ]
  },
  {
   "cell_type": "code",
   "execution_count": 9,
   "id": "e3aa81cb",
   "metadata": {},
   "outputs": [
    {
     "name": "stdout",
     "output_type": "stream",
     "text": [
      "\u001b[1mCustomLLM\u001b[0m\n",
      "Params: {'model_name': 'CustomChatModel'}\n"
     ]
    }
   ],
   "source": [
    "# Testing \n",
    "\n",
    "llm = CustomLLM(n=5)\n",
    "print(llm)"
   ]
  },
  {
   "cell_type": "code",
   "execution_count": 10,
   "id": "56ac53d0",
   "metadata": {},
   "outputs": [
    {
     "data": {
      "text/plain": [
       "'This '"
      ]
     },
     "execution_count": 10,
     "metadata": {},
     "output_type": "execute_result"
    }
   ],
   "source": [
    "llm.invoke(\"This is a foobar thing\")"
   ]
  },
  {
   "cell_type": "code",
   "execution_count": 11,
   "id": "7af53464",
   "metadata": {},
   "outputs": [
    {
     "data": {
      "text/plain": [
       "'world'"
      ]
     },
     "execution_count": 11,
     "metadata": {},
     "output_type": "execute_result"
    }
   ],
   "source": [
    "await llm.ainvoke(\"world\")"
   ]
  },
  {
   "cell_type": "code",
   "execution_count": 12,
   "id": "c6854c7e",
   "metadata": {},
   "outputs": [
    {
     "data": {
      "text/plain": [
       "['woof ', 'meow ']"
      ]
     },
     "execution_count": 12,
     "metadata": {},
     "output_type": "execute_result"
    }
   ],
   "source": [
    "llm.batch([\"woof woof woof\", \"meow meow meow\"])"
   ]
  },
  {
   "cell_type": "code",
   "execution_count": 13,
   "id": "1c988832",
   "metadata": {},
   "outputs": [
    {
     "data": {
      "text/plain": [
       "['woof ', 'meow ']"
      ]
     },
     "execution_count": 13,
     "metadata": {},
     "output_type": "execute_result"
    }
   ],
   "source": [
    "await llm.abatch([\"woof woof woof\", \"meow meow meow\"])"
   ]
  },
  {
   "cell_type": "code",
   "execution_count": 14,
   "id": "fa250fb7",
   "metadata": {},
   "outputs": [
    {
     "name": "stdout",
     "output_type": "stream",
     "text": [
      "h>e>l>l>o>"
     ]
    }
   ],
   "source": [
    "async for token in llm.astream(\"hello\"):\n",
    "    print(token, end=\">\", flush=True)"
   ]
  },
  {
   "cell_type": "code",
   "execution_count": 15,
   "id": "07eb7d18",
   "metadata": {},
   "outputs": [],
   "source": [
    "# Integration with langchain prompt template and chain\n",
    "from langchain_core.prompts.chat import ChatPromptTemplate\n",
    "\n",
    "prompt = ChatPromptTemplate.from_messages(\n",
    "    [(\"system\", \"you are a bot\"), (\"human\", \"{input}\")]\n",
    ")\n",
    "\n",
    "llm = CustomLLM(n=7)\n",
    "chain = prompt | llm"
   ]
  },
  {
   "cell_type": "code",
   "execution_count": 16,
   "id": "d8026b5d",
   "metadata": {},
   "outputs": [
    {
     "name": "stdout",
     "output_type": "stream",
     "text": [
      "{'event': 'on_chain_start', 'run_id': '3ad7d496-5390-46e5-b3f6-4ce222a0d406', 'name': 'RunnableSequence', 'tags': [], 'metadata': {}, 'data': {'input': {'input': 'hello there!'}}, 'parent_ids': []}\n",
      "{'event': 'on_prompt_start', 'name': 'ChatPromptTemplate', 'run_id': 'a36649ff-1239-4668-bc6d-a4baa26cc693', 'tags': ['seq:step:1'], 'metadata': {}, 'data': {'input': {'input': 'hello there!'}}, 'parent_ids': []}\n",
      "{'event': 'on_prompt_end', 'name': 'ChatPromptTemplate', 'run_id': 'a36649ff-1239-4668-bc6d-a4baa26cc693', 'tags': ['seq:step:1'], 'metadata': {}, 'data': {'input': {'input': 'hello there!'}, 'output': ChatPromptValue(messages=[SystemMessage(content='you are a bot', additional_kwargs={}, response_metadata={}), HumanMessage(content='hello there!', additional_kwargs={}, response_metadata={})])}, 'parent_ids': []}\n",
      "{'event': 'on_llm_start', 'name': 'CustomLLM', 'run_id': '8ec96921-4683-4de5-b760-499c56f63cbd', 'tags': ['seq:step:2'], 'metadata': {'ls_provider': 'custom', 'ls_model_type': 'llm'}, 'data': {'input': {'prompts': ['System: you are a bot\\nHuman: hello there!']}}, 'parent_ids': []}\n",
      "{'event': 'on_llm_stream', 'name': 'CustomLLM', 'run_id': '8ec96921-4683-4de5-b760-499c56f63cbd', 'tags': ['seq:step:2'], 'metadata': {'ls_provider': 'custom', 'ls_model_type': 'llm'}, 'data': {'chunk': 'S'}, 'parent_ids': []}\n",
      "{'event': 'on_chain_stream', 'run_id': '3ad7d496-5390-46e5-b3f6-4ce222a0d406', 'tags': [], 'metadata': {}, 'name': 'RunnableSequence', 'data': {'chunk': 'S'}, 'parent_ids': []}\n",
      "{'event': 'on_llm_stream', 'name': 'CustomLLM', 'run_id': '8ec96921-4683-4de5-b760-499c56f63cbd', 'tags': ['seq:step:2'], 'metadata': {'ls_provider': 'custom', 'ls_model_type': 'llm'}, 'data': {'chunk': 'y'}, 'parent_ids': []}\n",
      "{'event': 'on_chain_stream', 'run_id': '3ad7d496-5390-46e5-b3f6-4ce222a0d406', 'tags': [], 'metadata': {}, 'name': 'RunnableSequence', 'data': {'chunk': 'y'}, 'parent_ids': []}\n"
     ]
    }
   ],
   "source": [
    "idx = 0\n",
    "async for event in chain.astream_events({\"input\": \"hello there!\"}, version=\"v1\"):\n",
    "    print(event)\n",
    "    idx += 1\n",
    "    if idx > 7:\n",
    "        # Truncate\n",
    "        break"
   ]
  },
  {
   "cell_type": "code",
   "execution_count": null,
   "id": "9bf3c344",
   "metadata": {},
   "outputs": [],
   "source": []
  },
  {
   "cell_type": "markdown",
   "id": "3740a871",
   "metadata": {},
   "source": [
    "## How to track token usage for LLMs\n",
    "\n",
    "Tracking token usage to calculate cost is an important part of putting your app in production. This guide goes over how to obtain this information from your LangChain model calls."
   ]
  },
  {
   "cell_type": "code",
   "execution_count": null,
   "id": "ca5fe23b",
   "metadata": {},
   "outputs": [],
   "source": [
    "# Single call \n",
    "from langchain_community.callbacks import get_openai_callback\n",
    "from langchain_openai import OpenAI\n",
    "\n",
    "llm = OpenAI(name=\"gpt-3.5-turbo-instruct\")\n",
    "\n",
    "with get_openai_callback() as cb:\n",
    "    result = llm.invoke(\"Tell me a joke\")\n",
    "    print(result)\n",
    "    print(\"---\")\n",
    "print()\n",
    "\n",
    "print(f\"Total Tokens: {cb.total_tokens}\")\n",
    "print(f\"Prompt Tokens: {cb.prompt_tokens}\")\n",
    "print(f\"Completion Tokens: {cb.completion_tokens}\")\n",
    "print(f\"Total Cost (USD): ${cb.total_cost}\")"
   ]
  },
  {
   "cell_type": "code",
   "execution_count": null,
   "id": "4b9816e1",
   "metadata": {},
   "outputs": [],
   "source": []
  }
 ],
 "metadata": {
  "kernelspec": {
   "display_name": ".venv",
   "language": "python",
   "name": "python3"
  },
  "language_info": {
   "codemirror_mode": {
    "name": "ipython",
    "version": 3
   },
   "file_extension": ".py",
   "mimetype": "text/x-python",
   "name": "python",
   "nbconvert_exporter": "python",
   "pygments_lexer": "ipython3",
   "version": "3.12.11"
  }
 },
 "nbformat": 4,
 "nbformat_minor": 5
}
