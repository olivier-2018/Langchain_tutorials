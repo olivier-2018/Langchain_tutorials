{
 "cells": [
  {
   "cell_type": "markdown",
   "id": "a2ad1dea",
   "metadata": {},
   "source": [
    "# Messages\n",
    "source: https://python.langchain.com/docs/how_to/#messages\n",
    "\n",
    "Langchain **Messages** are the input and output of chat models.  \n",
    "They have some content and a role, which describes the source of the message.\n",
    "\n",
    "Types of usage:\n",
    "- trim messages\n",
    "- filter messages\n",
    "- merge consecutive messages of the same type\n"
   ]
  },
  {
   "cell_type": "markdown",
   "id": "612c0179",
   "metadata": {},
   "source": [
    "## Trim messages\n",
    "\n",
    "All models have finite context windows, meaning there's a limit to how many tokens they can take as input. If you have very long messages or a chain/agent that accumulates a long message history, you'll need to manage the length of the messages you're passing in to the model.\n",
    "\n",
    "**trim_message** can be used to reduce the size of a chat history to a specified token count or specified message count."
   ]
  },
  {
   "cell_type": "code",
   "execution_count": null,
   "id": "79294d09",
   "metadata": {},
   "outputs": [],
   "source": [
    "from langchain_core.messages.utils import count_tokens_approximately\n",
    "from langchain_core.messages import (\n",
    "    AIMessage,\n",
    "    HumanMessage,\n",
    "    SystemMessage,\n",
    "    ToolMessage,\n",
    "    trim_messages,\n",
    ")\n",
    "\n",
    "messages = [\n",
    "    SystemMessage(\"you're a good assistant, you always respond with a joke.\"),\n",
    "    HumanMessage(\"i wonder why it's called langchain\"),\n",
    "    AIMessage('Well, I guess they thought \"WordRope\" and \"SentenceString\" just didn\\'t have the same ring to it!'),\n",
    "    HumanMessage(\"and who is harrison chasing anyways\"),\n",
    "    AIMessage( \"Hmmm let me think.\\n\\nWhy, he's probably chasing after the last cup of coffee in the office!\"),\n",
    "    HumanMessage(\"what do you call a speechless parrot\"),\n",
    "]\n",
    "\n",
    "trim_messages(\n",
    "    messages,\n",
    "    # Keep the last <= n_count tokens of the messages.\n",
    "    strategy=\"last\",\n",
    "    # Remember to adjust based on your model or else pass a custom token_counter\n",
    "    token_counter=count_tokens_approximately,\n",
    "    # Most chat models expect that chat history starts with either:\n",
    "    # (1) a HumanMessage or\n",
    "    # (2) a SystemMessage followed by a HumanMessage\n",
    "    # Remember to adjust based on the desired conversation length\n",
    "    max_tokens=45,\n",
    "    # Most chat models expect that chat history starts with either:\n",
    "    # (1) a HumanMessage or\n",
    "    # (2) a SystemMessage followed by a HumanMessage\n",
    "    start_on=\"human\",\n",
    "    # Most chat models expect that chat history ends with either:\n",
    "    # (1) a HumanMessage or\n",
    "    # (2) a ToolMessage\n",
    "    end_on=(\"human\", \"tool\"),\n",
    "    # Usually, we want to keep the SystemMessage\n",
    "    # if it's present in the original history.\n",
    "    # The SystemMessage has special instructions for the model.\n",
    "    include_system=True,\n",
    "    allow_partial=False,\n",
    ")"
   ]
  }
 ],
 "metadata": {
  "kernelspec": {
   "display_name": ".venv",
   "language": "python",
   "name": "python3"
  },
  "language_info": {
   "codemirror_mode": {
    "name": "ipython",
    "version": 3
   },
   "file_extension": ".py",
   "mimetype": "text/x-python",
   "name": "python",
   "nbconvert_exporter": "python",
   "pygments_lexer": "ipython3",
   "version": "3.12.10"
  }
 },
 "nbformat": 4,
 "nbformat_minor": 5
}
