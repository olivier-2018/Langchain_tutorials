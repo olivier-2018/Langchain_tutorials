{
 "cells": [
  {
   "cell_type": "markdown",
   "id": "a2ad1dea",
   "metadata": {},
   "source": [
    "# Prompt templates\n",
    "source: https://python.langchain.com/docs/how_to/#prompt-templates\n",
    "\n",
    "Langchain **prompt templates**  are responsible for formatting user input into a format that can be passed to a language model.\n",
    "\n",
    "\n",
    "Prompt template types: \n",
    "- few-shot examples\n",
    "- few-shot examples in chat models\n",
    "- partially format prompt templates\n",
    "- compose prompts together\n",
    "- multimodal prompts\n"
   ]
  },
  {
   "cell_type": "markdown",
   "id": "8106cde9",
   "metadata": {},
   "source": [
    "## Together prompts composition\n",
    "\n",
    "**Basic idea**: format reusable prompts which contain variables passed as arguments when calling the prompt template."
   ]
  },
  {
   "cell_type": "code",
   "execution_count": 2,
   "id": "16a8e08c",
   "metadata": {},
   "outputs": [
    {
     "data": {
      "text/plain": [
       "'Tell me a joke about sports, make it funny and in spanish'"
      ]
     },
     "execution_count": 2,
     "metadata": {},
     "output_type": "execute_result"
    }
   ],
   "source": [
    "# String prompt composition\n",
    "from langchain_core.prompts import PromptTemplate\n",
    "\n",
    "prompt = (\n",
    "    PromptTemplate.from_template(\"Tell me a joke about {topic}\")\n",
    "    + \", make it funny and in {language}\"\n",
    ")\n",
    "\n",
    "prompt.format(topic=\"sports\", language=\"spanish\")"
   ]
  },
  {
   "cell_type": "code",
   "execution_count": 3,
   "id": "7ca54020",
   "metadata": {},
   "outputs": [
    {
     "data": {
      "text/plain": [
       "[SystemMessage(content='You are a nice pirate', additional_kwargs={}, response_metadata={}),\n",
       " HumanMessage(content='hi', additional_kwargs={}, response_metadata={}),\n",
       " AIMessage(content='what?', additional_kwargs={}, response_metadata={}),\n",
       " HumanMessage(content='i said hi', additional_kwargs={}, response_metadata={})]"
      ]
     },
     "execution_count": 3,
     "metadata": {},
     "output_type": "execute_result"
    }
   ],
   "source": [
    "# Chat prompt composition\n",
    "from langchain_core.messages import AIMessage, HumanMessage, SystemMessage\n",
    "\n",
    "prompt = SystemMessage(content=\"You are a nice pirate\")\n",
    "\n",
    "new_prompt = ( prompt + HumanMessage(content=\"hi\") + AIMessage(content=\"what?\") + \"{input}\")\n",
    "new_prompt.format_messages(input=\"i said hi\")"
   ]
  },
  {
   "cell_type": "code",
   "execution_count": null,
   "id": "f1f0c5b5",
   "metadata": {},
   "outputs": [
    {
     "name": "stdout",
     "output_type": "stream",
     "text": [
      "\n",
      "----- Prompt with System and Human Messages (Tuple) -----\n",
      "\n",
      "messages=[SystemMessage(content='You are a comedian who tells jokes about lawyers.', additional_kwargs={}, response_metadata={}), HumanMessage(content='Tell me 3 jokes.', additional_kwargs={}, response_metadata={})]\n"
     ]
    }
   ],
   "source": [
    "# Creating a prompt template\n",
    "from langchain.prompts import ChatPromptTemplate\n",
    "\n",
    "messages = [\n",
    "    (\"system\", \"You are a comedian who tells jokes about {topic}.\"),\n",
    "    (\"human\", \"Tell me {joke_count} jokes.\"),\n",
    "]\n",
    "prompt_template = ChatPromptTemplate.from_messages(messages)\n",
    "prompt = prompt_template.invoke({\"topic\": \"lawyers\", \"joke_count\": 3})\n",
    "\n",
    "print(\"\\n----- Prompt with System and Human Messages (Tuple) -----\\n\")\n",
    "print(prompt)"
   ]
  },
  {
   "cell_type": "markdown",
   "id": "612c0179",
   "metadata": {},
   "source": [
    "## Few shot prompt \n",
    "Basic idea: By providing the model with examples like this, we can guide the model to a better response."
   ]
  },
  {
   "cell_type": "code",
   "execution_count": 4,
   "id": "79294d09",
   "metadata": {},
   "outputs": [],
   "source": [
    "# Create a formatter for the few-shot examples (this formatter will format the few-shot examples into a string)\n",
    "from langchain_core.prompts import PromptTemplate\n",
    "\n",
    "example_prompt = PromptTemplate.from_template(\"Question: {question}\\n{answer}\")\n",
    "\n",
    "# Create example set\n",
    "examples = [\n",
    "    {\n",
    "        \"question\": \"Who lived longer, Muhammad Ali or Alan Turing?\",\n",
    "        \"answer\": \"\"\"Are follow up questions needed here: Yes.\n",
    "                    Follow up: How old was Muhammad Ali when he died?\n",
    "                    Intermediate answer: Muhammad Ali was 74 years old when he died.\n",
    "                    Follow up: How old was Alan Turing when he died?\n",
    "                    Intermediate answer: Alan Turing was 41 years old when he died.\n",
    "                    So the final answer is: Muhammad Ali\"\"\",\n",
    "    },\n",
    "    {\n",
    "        \"question\": \"When was the founder of craigslist born?\",\n",
    "        \"answer\": \"\"\"Are follow up questions needed here: Yes.\n",
    "                    Follow up: Who was the founder of craigslist?\n",
    "                    Intermediate answer: Craigslist was founded by Craig Newmark.\n",
    "                    Follow up: When was Craig Newmark born?\n",
    "                    Intermediate answer: Craig Newmark was born on December 6, 1952.\n",
    "                    So the final answer is: December 6, 1952\"\"\",\n",
    "    },\n",
    "    {\n",
    "        \"question\": \"Who was the maternal grandfather of George Washington?\",\n",
    "        \"answer\": \"\"\"Are follow up questions needed here: Yes.\n",
    "                    Follow up: Who was the mother of George Washington?\n",
    "                    Intermediate answer: The mother of George Washington was Mary Ball Washington.\n",
    "                    Follow up: Who was the father of Mary Ball Washington?\n",
    "                    Intermediate answer: The father of Mary Ball Washington was Joseph Ball.\n",
    "                    So the final answer is: Joseph Ball\"\"\",\n",
    "    },\n",
    "    {\n",
    "        \"question\": \"Are both the directors of Jaws and Casino Royale from the same country?\",\n",
    "        \"answer\": \"\"\"Are follow up questions needed here: Yes.\n",
    "                    Follow up: Who is the director of Jaws?\n",
    "                    Intermediate Answer: The director of Jaws is Steven Spielberg.\n",
    "                    Follow up: Where is Steven Spielberg from?\n",
    "                    Intermediate Answer: The United States.\n",
    "                    Follow up: Who is the director of Casino Royale?\n",
    "                    Intermediate Answer: The director of Casino Royale is Martin Campbell.\n",
    "                    Follow up: Where is Martin Campbell from?\n",
    "                    Intermediate Answer: New Zealand.\n",
    "                    So the final answer is: No\"\"\",\n",
    "    },\n",
    "]"
   ]
  },
  {
   "cell_type": "code",
   "execution_count": 5,
   "id": "ac5c58fc",
   "metadata": {},
   "outputs": [
    {
     "name": "stdout",
     "output_type": "stream",
     "text": [
      "Question: Who lived longer, Muhammad Ali or Alan Turing?\n",
      "Are follow up questions needed here: Yes.\n",
      "                    Follow up: How old was Muhammad Ali when he died?\n",
      "                    Intermediate answer: Muhammad Ali was 74 years old when he died.\n",
      "                    Follow up: How old was Alan Turing when he died?\n",
      "                    Intermediate answer: Alan Turing was 41 years old when he died.\n",
      "                    So the final answer is: Muhammad Ali\n",
      "\n",
      "Question: When was the founder of craigslist born?\n",
      "Are follow up questions needed here: Yes.\n",
      "                    Follow up: Who was the founder of craigslist?\n",
      "                    Intermediate answer: Craigslist was founded by Craig Newmark.\n",
      "                    Follow up: When was Craig Newmark born?\n",
      "                    Intermediate answer: Craig Newmark was born on December 6, 1952.\n",
      "                    So the final answer is: December 6, 1952\n",
      "\n",
      "Question: Who was the maternal grandfather of George Washington?\n",
      "Are follow up questions needed here: Yes.\n",
      "                    Follow up: Who was the mother of George Washington?\n",
      "                    Intermediate answer: The mother of George Washington was Mary Ball Washington.\n",
      "                    Follow up: Who was the father of Mary Ball Washington?\n",
      "                    Intermediate answer: The father of Mary Ball Washington was Joseph Ball.\n",
      "                    So the final answer is: Joseph Ball\n",
      "\n",
      "Question: Are both the directors of Jaws and Casino Royale from the same country?\n",
      "Are follow up questions needed here: Yes.\n",
      "                    Follow up: Who is the director of Jaws?\n",
      "                    Intermediate Answer: The director of Jaws is Steven Spielberg.\n",
      "                    Follow up: Where is Steven Spielberg from?\n",
      "                    Intermediate Answer: The United States.\n",
      "                    Follow up: Who is the director of Casino Royale?\n",
      "                    Intermediate Answer: The director of Casino Royale is Martin Campbell.\n",
      "                    Follow up: Where is Martin Campbell from?\n",
      "                    Intermediate Answer: New Zealand.\n",
      "                    So the final answer is: No\n",
      "\n",
      "Question: Who was the father of Mary Ball Washington?\n"
     ]
    }
   ],
   "source": [
    "# Using the few-shot examples and the formatter, the FewShotPromptTemplate object formats the passed examples  \n",
    "# and adds them to the final prompt before suffix:\n",
    "\n",
    "from langchain_core.prompts import FewShotPromptTemplate\n",
    "\n",
    "prompt = FewShotPromptTemplate(\n",
    "    examples=examples,\n",
    "    example_prompt=example_prompt,\n",
    "    suffix=\"Question: {input}\",\n",
    "    input_variables=[\"input\"],\n",
    ")\n",
    "\n",
    "print(\n",
    "    prompt.invoke({\"input\": \"Who was the father of Mary Ball Washington?\"}).to_string()\n",
    ")"
   ]
  },
  {
   "cell_type": "code",
   "execution_count": 7,
   "id": "bda33fcd",
   "metadata": {},
   "outputs": [
    {
     "name": "stdout",
     "output_type": "stream",
     "text": [
      "Examples most similar to the input: Who was the father of Mary Ball Washington?\n",
      "\n",
      "\n",
      "answer: Are follow up questions needed here: Yes.\n",
      "                    Follow up: Who was the mother of George Washington?\n",
      "                    Intermediate answer: The mother of George Washington was Mary Ball Washington.\n",
      "                    Follow up: Who was the father of Mary Ball Washington?\n",
      "                    Intermediate answer: The father of Mary Ball Washington was Joseph Ball.\n",
      "                    So the final answer is: Joseph Ball\n",
      "question: Who was the maternal grandfather of George Washington?\n"
     ]
    }
   ],
   "source": [
    "# We now feed the prompt examples into an implementation of ExampleSelector (called SemanticSimilarityExampleSelector instance)\n",
    "# This class selects few-shot examples from the initial set based on their similarity to the input. \n",
    "# It uses an embedding model to compute the similarity between the input and the few-shot examples, as well as a vector store to perform the nearest neighbor search.\n",
    "from langchain_chroma import Chroma\n",
    "from langchain_core.example_selectors import SemanticSimilarityExampleSelector\n",
    "from langchain_openai import OpenAIEmbeddings\n",
    "# from langchain.embeddings import OllamaEmbeddings\n",
    "from langchain_ollama import OllamaEmbeddings\n",
    "\n",
    "example_selector = SemanticSimilarityExampleSelector.from_examples(\n",
    "    # This is the list of examples available to select from.\n",
    "    examples,   \n",
    "    # embedding class used to produce embeddings which are used to measure semantic similarity.\n",
    "    OllamaEmbeddings(base_url=\"http://localhost:11434\", model=\"llama3.2:3b\"),\n",
    "    # VectorStore class used to store the embeddings and do a similarity search over.\n",
    "    Chroma,  \n",
    "    #  number of examples to produce.   \n",
    "    k=1,        \n",
    ")\n",
    "\n",
    "# Select the most similar example to the input.\n",
    "question = \"Who was the father of Mary Ball Washington?\"\n",
    "selected_examples = example_selector.select_examples({\"question\": question})\n",
    "print(f\"Examples most similar to the input: {question}\")\n",
    "for example in selected_examples:\n",
    "    print(\"\\n\")\n",
    "    for k, v in example.items():\n",
    "        print(f\"{k}: {v}\")\n"
   ]
  },
  {
   "cell_type": "code",
   "execution_count": null,
   "id": "a54f911f",
   "metadata": {},
   "outputs": [],
   "source": []
  }
 ],
 "metadata": {
  "kernelspec": {
   "display_name": ".venv",
   "language": "python",
   "name": "python3"
  },
  "language_info": {
   "codemirror_mode": {
    "name": "ipython",
    "version": 3
   },
   "file_extension": ".py",
   "mimetype": "text/x-python",
   "name": "python",
   "nbconvert_exporter": "python",
   "pygments_lexer": "ipython3",
   "version": "3.12.11"
  }
 },
 "nbformat": 4,
 "nbformat_minor": 5
}
