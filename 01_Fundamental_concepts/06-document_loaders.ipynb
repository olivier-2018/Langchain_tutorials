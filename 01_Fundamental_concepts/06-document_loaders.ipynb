{
 "cells": [
  {
   "cell_type": "markdown",
   "id": "b5a4f31f",
   "metadata": {},
   "source": [
    "# Document loaders\n",
    "\n",
    "Document Loaders are responsible for loading documents from a variety of sources.\n",
    "\n",
    "- load PDF files\n",
    "- load web pages\n",
    "- load CSV data\n",
    "- load data from a directory\n",
    "- load HTML data\n",
    "- load JSON data\n",
    "- load Markdown data\n",
    "- load Microsoft Office data\n",
    "- write a custom document loader\n"
   ]
  },
  {
   "cell_type": "markdown",
   "id": "62fb6bfd",
   "metadata": {},
   "source": [
    "# Load pdf"
   ]
  },
  {
   "cell_type": "markdown",
   "id": "6fe20e1b",
   "metadata": {},
   "source": [
    "### Read pdf text"
   ]
  },
  {
   "cell_type": "code",
   "execution_count": 4,
   "id": "c8258feb",
   "metadata": {},
   "outputs": [],
   "source": [
    "from langchain_community.document_loaders import PyPDFLoader\n",
    "\n",
    "file_path = \"./assets/general-conditions-of-carriage-for-rail-passengers.pdf\"\n",
    "\n",
    "loader = PyPDFLoader(file_path)\n",
    "pages = []\n",
    "async for page in loader.alazy_load():\n",
    "    pages.append(page)\n",
    "    \n",
    "# print(f\"{pages[0].metadata}\\n\")\n",
    "# print(pages[2].page_content)"
   ]
  },
  {
   "cell_type": "markdown",
   "id": "436311ba",
   "metadata": {},
   "source": [
    "### Vector search over PDFs"
   ]
  },
  {
   "cell_type": "code",
   "execution_count": null,
   "id": "6500f27b",
   "metadata": {},
   "outputs": [],
   "source": [
    "from langchain_core.vectorstores import InMemoryVectorStore\n",
    "from langchain_openai import OpenAIEmbeddings\n",
    "\n",
    "vector_store = InMemoryVectorStore.from_documents(pages, OpenAIEmbeddings())\n",
    "docs = vector_store.similarity_search(\"What is LayoutParser?\", k=2)\n",
    "for doc in docs:\n",
    "    print(f\"Page {doc.metadata['page']}: {doc.page_content[:300]}\\n\")"
   ]
  },
  {
   "cell_type": "markdown",
   "id": "79b2054a",
   "metadata": {},
   "source": [
    "### Layout analysis and extraction of text from images"
   ]
  },
  {
   "cell_type": "code",
   "execution_count": null,
   "id": "d3440a47",
   "metadata": {},
   "outputs": [
    {
     "name": "stderr",
     "output_type": "stream",
     "text": [
      "INFO: HTTP Request: GET https://api.unstructuredapp.io/general/docs \"HTTP/1.1 200 OK\"\n",
      "INFO: HTTP Request: POST https://api.unstructuredapp.io/general/v0/general \"HTTP/1.1 401 Unauthorized\"\n",
      "INFO: HTTP Request: POST https://api.unstructuredapp.io/general/v0/general \"HTTP/1.1 401 Unauthorized\"\n",
      "INFO: HTTP Request: POST https://api.unstructuredapp.io/general/v0/general \"HTTP/1.1 401 Unauthorized\"\n",
      "INFO: HTTP Request: POST https://api.unstructuredapp.io/general/v0/general \"HTTP/1.1 401 Unauthorized\"\n",
      "ERROR: Failed to partition set 5.\n"
     ]
    },
    {
     "ename": "SDKError",
     "evalue": "API error occurred: Status 401. Body: {\"detail\":\"API key is missing, please provide an API key in the header.\"}",
     "output_type": "error",
     "traceback": [
      "\u001b[31m---------------------------------------------------------------------------\u001b[39m",
      "\u001b[31mSDKError\u001b[39m                                  Traceback (most recent call last)",
      "\u001b[36mCell\u001b[39m\u001b[36m \u001b[39m\u001b[32mIn[6]\u001b[39m\u001b[32m, line 10\u001b[39m\n\u001b[32m      3\u001b[39m loader = UnstructuredLoader(\n\u001b[32m      4\u001b[39m     file_path=file_path,\n\u001b[32m      5\u001b[39m     strategy=\u001b[33m\"\u001b[39m\u001b[33mhi_res\u001b[39m\u001b[33m\"\u001b[39m,\n\u001b[32m      6\u001b[39m     partition_via_api=\u001b[38;5;28;01mTrue\u001b[39;00m,\n\u001b[32m      7\u001b[39m     coordinates=\u001b[38;5;28;01mTrue\u001b[39;00m,\n\u001b[32m      8\u001b[39m )\n\u001b[32m      9\u001b[39m docs = []\n\u001b[32m---> \u001b[39m\u001b[32m10\u001b[39m \u001b[38;5;28;43;01mfor\u001b[39;49;00m\u001b[43m \u001b[49m\u001b[43mdoc\u001b[49m\u001b[43m \u001b[49m\u001b[38;5;129;43;01min\u001b[39;49;00m\u001b[43m \u001b[49m\u001b[43mloader\u001b[49m\u001b[43m.\u001b[49m\u001b[43mlazy_load\u001b[49m\u001b[43m(\u001b[49m\u001b[43m)\u001b[49m\u001b[43m:\u001b[49m\n\u001b[32m     11\u001b[39m \u001b[43m    \u001b[49m\u001b[43mdocs\u001b[49m\u001b[43m.\u001b[49m\u001b[43mappend\u001b[49m\u001b[43m(\u001b[49m\u001b[43mdoc\u001b[49m\u001b[43m)\u001b[49m\n\u001b[32m     13\u001b[39m \u001b[38;5;28mprint\u001b[39m(\u001b[38;5;28mlen\u001b[39m(docs))\n",
      "\u001b[36mFile \u001b[39m\u001b[32m~/TUTORIALS/Langchain_tutorials/.venv/lib/python3.12/site-packages/langchain_unstructured/document_loaders.py:178\u001b[39m, in \u001b[36mUnstructuredLoader.lazy_load\u001b[39m\u001b[34m(self)\u001b[39m\n\u001b[32m    175\u001b[39m     \u001b[38;5;28;01mreturn\u001b[39;00m\n\u001b[32m    177\u001b[39m \u001b[38;5;66;03m# Call _UnstructuredBaseLoader normally since file and file_path are not lists\u001b[39;00m\n\u001b[32m--> \u001b[39m\u001b[32m178\u001b[39m \u001b[38;5;28;01myield from\u001b[39;00m load_file(f=\u001b[38;5;28mself\u001b[39m.file, f_path=\u001b[38;5;28mself\u001b[39m.file_path)\n",
      "\u001b[36mFile \u001b[39m\u001b[32m~/TUTORIALS/Langchain_tutorials/.venv/lib/python3.12/site-packages/langchain_unstructured/document_loaders.py:212\u001b[39m, in \u001b[36m_SingleDocumentLoader.lazy_load\u001b[39m\u001b[34m(self)\u001b[39m\n\u001b[32m    207\u001b[39m \u001b[38;5;28;01mdef\u001b[39;00m\u001b[38;5;250m \u001b[39m\u001b[34mlazy_load\u001b[39m(\u001b[38;5;28mself\u001b[39m) -> Iterator[Document]:\n\u001b[32m    208\u001b[39m \u001b[38;5;250m    \u001b[39m\u001b[33;03m\"\"\"Load file.\"\"\"\u001b[39;00m\n\u001b[32m    209\u001b[39m     elements_json = (\n\u001b[32m    210\u001b[39m         \u001b[38;5;28mself\u001b[39m._post_process_elements_json(\u001b[38;5;28mself\u001b[39m._elements_json)\n\u001b[32m    211\u001b[39m         \u001b[38;5;28;01mif\u001b[39;00m \u001b[38;5;28mself\u001b[39m.post_processors\n\u001b[32m--> \u001b[39m\u001b[32m212\u001b[39m         \u001b[38;5;28;01melse\u001b[39;00m \u001b[38;5;28;43mself\u001b[39;49m\u001b[43m.\u001b[49m\u001b[43m_elements_json\u001b[49m\n\u001b[32m    213\u001b[39m     )\n\u001b[32m    214\u001b[39m     \u001b[38;5;28;01mfor\u001b[39;00m element \u001b[38;5;129;01min\u001b[39;00m elements_json:\n\u001b[32m    215\u001b[39m         metadata = \u001b[38;5;28mself\u001b[39m._get_metadata()\n",
      "\u001b[36mFile \u001b[39m\u001b[32m~/TUTORIALS/Langchain_tutorials/.venv/lib/python3.12/site-packages/langchain_unstructured/document_loaders.py:229\u001b[39m, in \u001b[36m_SingleDocumentLoader._elements_json\u001b[39m\u001b[34m(self)\u001b[39m\n\u001b[32m    227\u001b[39m \u001b[38;5;250m\u001b[39m\u001b[33;03m\"\"\"Get elements as a list of dictionaries from local partition or via API.\"\"\"\u001b[39;00m\n\u001b[32m    228\u001b[39m \u001b[38;5;28;01mif\u001b[39;00m \u001b[38;5;28mself\u001b[39m.partition_via_api:\n\u001b[32m--> \u001b[39m\u001b[32m229\u001b[39m     \u001b[38;5;28;01mreturn\u001b[39;00m \u001b[38;5;28;43mself\u001b[39;49m\u001b[43m.\u001b[49m\u001b[43m_elements_via_api\u001b[49m\n\u001b[32m    231\u001b[39m \u001b[38;5;28;01mreturn\u001b[39;00m \u001b[38;5;28mself\u001b[39m._convert_elements_to_dicts(\u001b[38;5;28mself\u001b[39m._elements_via_local)\n",
      "\u001b[36mFile \u001b[39m\u001b[32m~/TUTORIALS/Langchain_tutorials/.venv/lib/python3.12/site-packages/langchain_unstructured/document_loaders.py:258\u001b[39m, in \u001b[36m_SingleDocumentLoader._elements_via_api\u001b[39m\u001b[34m(self)\u001b[39m\n\u001b[32m    256\u001b[39m client = \u001b[38;5;28mself\u001b[39m.client\n\u001b[32m    257\u001b[39m req = \u001b[38;5;28mself\u001b[39m._sdk_partition_request\n\u001b[32m--> \u001b[39m\u001b[32m258\u001b[39m response = \u001b[43mclient\u001b[49m\u001b[43m.\u001b[49m\u001b[43mgeneral\u001b[49m\u001b[43m.\u001b[49m\u001b[43mpartition\u001b[49m\u001b[43m(\u001b[49m\u001b[43mrequest\u001b[49m\u001b[43m=\u001b[49m\u001b[43mreq\u001b[49m\u001b[43m)\u001b[49m\n\u001b[32m    259\u001b[39m \u001b[38;5;28;01mif\u001b[39;00m response.status_code == \u001b[32m200\u001b[39m:\n\u001b[32m    260\u001b[39m     \u001b[38;5;28;01mreturn\u001b[39;00m json.loads(response.raw_response.text)\n",
      "\u001b[36mFile \u001b[39m\u001b[32m~/TUTORIALS/Langchain_tutorials/.venv/lib/python3.12/site-packages/unstructured_client/general.py:138\u001b[39m, in \u001b[36mGeneral.partition\u001b[39m\u001b[34m(self, request, retries, server_url, timeout_ms, accept_header_override, http_headers)\u001b[39m\n\u001b[32m    136\u001b[39m \u001b[38;5;28;01mif\u001b[39;00m utils.match_response(http_res, \u001b[33m\"\u001b[39m\u001b[33m4XX\u001b[39m\u001b[33m\"\u001b[39m, \u001b[33m\"\u001b[39m\u001b[33m*\u001b[39m\u001b[33m\"\u001b[39m):\n\u001b[32m    137\u001b[39m     http_res_text = utils.stream_to_text(http_res)\n\u001b[32m--> \u001b[39m\u001b[32m138\u001b[39m     \u001b[38;5;28;01mraise\u001b[39;00m errors.SDKError(\u001b[33m\"\u001b[39m\u001b[33mAPI error occurred\u001b[39m\u001b[33m\"\u001b[39m, http_res, http_res_text)\n\u001b[32m    139\u001b[39m \u001b[38;5;28;01mif\u001b[39;00m utils.match_response(http_res, \u001b[33m\"\u001b[39m\u001b[33m5XX\u001b[39m\u001b[33m\"\u001b[39m, \u001b[33m\"\u001b[39m\u001b[33mapplication/json\u001b[39m\u001b[33m\"\u001b[39m):\n\u001b[32m    140\u001b[39m     response_data = unmarshal_json_response(errors.ServerErrorData, http_res)\n",
      "\u001b[31mSDKError\u001b[39m: API error occurred: Status 401. Body: {\"detail\":\"API key is missing, please provide an API key in the header.\"}"
     ]
    }
   ],
   "source": [
    "# Requires account and UNSTRUCTURED_API_KEY  from Unstructured.io\n",
    "from langchain_unstructured import UnstructuredLoader\n",
    "\n",
    "loader = UnstructuredLoader(\n",
    "    file_path=file_path,\n",
    "    strategy=\"hi_res\",\n",
    "    partition_via_api=True,\n",
    "    coordinates=True,\n",
    ")\n",
    "docs = []\n",
    "for doc in loader.lazy_load():\n",
    "    docs.append(doc)\n",
    "    \n",
    "print(len(docs))\n",
    "\n",
    "first_page_docs = [doc for doc in docs if doc.metadata.get(\"page_number\") == 1]\n",
    "\n",
    "for doc in first_page_docs:\n",
    "    print(doc.page_content)"
   ]
  },
  {
   "cell_type": "markdown",
   "id": "6dbe9718",
   "metadata": {},
   "source": [
    "### Extracting tables and other structures"
   ]
  },
  {
   "cell_type": "code",
   "execution_count": null,
   "id": "84ef05f2",
   "metadata": {},
   "outputs": [],
   "source": [
    "# matplotlib PyMuPDF pillow\n",
    "import fitz\n",
    "import matplotlib.patches as patches\n",
    "import matplotlib.pyplot as plt\n",
    "from PIL import Image\n",
    "\n",
    "\n",
    "def plot_pdf_with_boxes(pdf_page, segments):\n",
    "    pix = pdf_page.get_pixmap()\n",
    "    pil_image = Image.frombytes(\"RGB\", [pix.width, pix.height], pix.samples)\n",
    "\n",
    "    fig, ax = plt.subplots(1, figsize=(10, 10))\n",
    "    ax.imshow(pil_image)\n",
    "    categories = set()\n",
    "    category_to_color = {\n",
    "        \"Title\": \"orchid\",\n",
    "        \"Image\": \"forestgreen\",\n",
    "        \"Table\": \"tomato\",\n",
    "    }\n",
    "    for segment in segments:\n",
    "        points = segment[\"coordinates\"][\"points\"]\n",
    "        layout_width = segment[\"coordinates\"][\"layout_width\"]\n",
    "        layout_height = segment[\"coordinates\"][\"layout_height\"]\n",
    "        scaled_points = [\n",
    "            (x * pix.width / layout_width, y * pix.height / layout_height)\n",
    "            for x, y in points\n",
    "        ]\n",
    "        box_color = category_to_color.get(segment[\"category\"], \"deepskyblue\")\n",
    "        categories.add(segment[\"category\"])\n",
    "        rect = patches.Polygon(\n",
    "            scaled_points, linewidth=1, edgecolor=box_color, facecolor=\"none\"\n",
    "        )\n",
    "        ax.add_patch(rect)\n",
    "\n",
    "    # Make legend\n",
    "    legend_handles = [patches.Patch(color=\"deepskyblue\", label=\"Text\")]\n",
    "    for category in [\"Title\", \"Image\", \"Table\"]:\n",
    "        if category in categories:\n",
    "            legend_handles.append(\n",
    "                patches.Patch(color=category_to_color[category], label=category)\n",
    "            )\n",
    "    ax.axis(\"off\")\n",
    "    ax.legend(handles=legend_handles, loc=\"upper right\")\n",
    "    plt.tight_layout()\n",
    "    plt.show()\n",
    "\n",
    "\n",
    "def render_page(doc_list: list, page_number: int, print_text=True) -> None:\n",
    "    pdf_page = fitz.open(file_path).load_page(page_number - 1)\n",
    "    page_docs = [\n",
    "        doc for doc in doc_list if doc.metadata.get(\"page_number\") == page_number\n",
    "    ]\n",
    "    segments = [doc.metadata for doc in page_docs]\n",
    "    plot_pdf_with_boxes(pdf_page, segments)\n",
    "    if print_text:\n",
    "        for doc in page_docs:\n",
    "            print(f\"{doc.page_content}\\n\")"
   ]
  }
 ],
 "metadata": {
  "kernelspec": {
   "display_name": ".venv",
   "language": "python",
   "name": "python3"
  },
  "language_info": {
   "codemirror_mode": {
    "name": "ipython",
    "version": 3
   },
   "file_extension": ".py",
   "mimetype": "text/x-python",
   "name": "python",
   "nbconvert_exporter": "python",
   "pygments_lexer": "ipython3",
   "version": "3.12.10"
  }
 },
 "nbformat": 4,
 "nbformat_minor": 5
}
