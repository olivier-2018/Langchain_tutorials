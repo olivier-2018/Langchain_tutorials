{
 "cells": [
  {
   "cell_type": "markdown",
   "id": "a2ad1dea",
   "metadata": {},
   "source": [
    "# Chat models\n",
    "source: https://python.langchain.com/docs/how_to/#chat-models\n",
    "\n",
    "Langchain **chat models** are language models that use a sequence of messages as inputs and return messages as outputs (as opposed to using plain text). These are generally newer models.\n",
    "\n",
    "## Setup\n",
    "\n",
    "Install LLM models as langchain dependencies: \n",
    "\n",
    "```bash\n",
    "uv pip install \"langchain[anthropic]\"\n",
    "```\n",
    "\n",
    "Ex: anthropic, openai, google-genai (gemini), google-vertexai, aws,  groq, cohere, langchain-nvidia-ai-endpoints (nvidia), fireworks, mistralai, together, langchain-ibm (WatsonX), databricks-langchain, langchain-xai, langchain-perplexity, langchain-deepseek, langchain-ollama, ...\n",
    "\n",
    "\n",
    "See link above for model features."
   ]
  },
  {
   "cell_type": "markdown",
   "id": "612c0179",
   "metadata": {},
   "source": [
    "## Fundamentals of chat models"
   ]
  },
  {
   "cell_type": "code",
   "execution_count": null,
   "metadata": {},
   "outputs": [
    {
     "name": "stdout",
     "output_type": "stream",
     "text": [
      "Error code: 429 - {'error': {'message': 'You exceeded your current quota, please check your plan and billing details. For more information on this error, read the docs: https://platform.openai.com/docs/guides/error-codes/api-errors.', 'type': 'insufficient_quota', 'param': None, 'code': 'insufficient_quota'}}\n"
     ]
    }
   ],
   "source": [
    "# OpenAI chat model example\n",
    "\n",
    "from langchain.chat_models import ChatOpenAI\n",
    "from dotenv import load_dotenv\n",
    "import os\n",
    "\n",
    "load_dotenv()\n",
    "api_key = os.getenv(\"OPENAI_API_KEY\")\n",
    "message = \"hi! Tell me a joke.\"\n",
    "\n",
    "chat_model = ChatOpenAI(openai_api_key=api_key)\n",
    "try:\n",
    "    result = chat_model.predict(message)\n",
    "except Exception as e:\n",
    "    result = str(e)\n",
    "    \n",
    "print(result)"
   ]
  },
  {
   "cell_type": "code",
   "execution_count": null,
   "id": "316e7e31",
   "metadata": {},
   "outputs": [],
   "source": [
    "#  Generic model example\n",
    "\n",
    "import getpass\n",
    "import os\n",
    "from langchain.chat_models import init_chat_model\n",
    "\n",
    "\n",
    "if not os.environ.get(\"GOOGLE_API_KEY\"):\n",
    "  os.environ[\"GOOGLE_API_KEY\"] = getpass.getpass(\"Enter API key for Google Gemini: \")\n",
    "\n",
    "llm = init_chat_model(\"gemini-2.5-flash\", model_provider=\"google_genai\")\n",
    "\n",
    "llm.invoke(\"Hello, world!\")"
   ]
  },
  {
   "cell_type": "code",
   "execution_count": null,
   "id": "fe46b002",
   "metadata": {},
   "outputs": [],
   "source": [
    "# ---- Anthropic Chat Model Example ----\n",
    "# Anthropic models: https://docs.anthropic.com/en/docs/models-overview\n",
    "from langchain.chat_models import ChatAnthropic\n",
    "\n",
    "model = ChatAnthropic(model=\"claude-3-opus-20240229\")\n",
    "result = model.invoke(message)\n",
    "print(f\"Answer from Anthropic: {result.content}\")\n",
    "\n",
    "\n",
    "# ---- Google Chat Model Example ----\n",
    "# https://ai.google.dev/gemini-api/docs/models/gemini\n",
    "from langchain_googlegenerativeai import ChatGoogleGenerativeAI\n",
    "\n",
    "model = ChatGoogleGenerativeAI(model=\"gemini-1.5-flash\")\n",
    "result = model.invoke(message)\n",
    "print(f\"Answer from Google: {result.content}\")\n",
    "\n",
    "# ---- Ollama chat model example ----\n",
    "from langchain_ollama import ChatOllama\n",
    "\n",
    "# Instantiation\n",
    "model = ChatOllama(\n",
    "    model=\"llama3.1\",\n",
    "    temperature=0,\n",
    "    # other params...\n",
    ")\n",
    "\n",
    "# Invocation\n",
    "result = model.invoke(message)\n",
    "print(result.content)"
   ]
  },
  {
   "cell_type": "markdown",
   "id": "d09a6a14",
   "metadata": {},
   "source": [
    "## Chat model used for conversation (sequential inputs)\n",
    "\n",
    "This introduces the message class and 3 types of messages:  \n",
    "- SystemMessage: directed to the LLM\n",
    "- HumanMessage: discussion from human\n",
    "- AIMessage: discussion from AI LLM"
   ]
  },
  {
   "cell_type": "code",
   "execution_count": null,
   "id": "ee82d4d5",
   "metadata": {},
   "outputs": [],
   "source": [
    "\n",
    "from langchain_core.messages import AIMessage, HumanMessage, SystemMessage\n",
    "\n",
    "# Create a ChatOpenAI model\n",
    "\n",
    "model = ChatOpenAI(model=\"gpt-4o\")\n",
    "\n",
    "# SystemMessage: Message for priming AI behavior, usually passed in as the first of a sequenc of input messages.\n",
    "# HumanMessagse: Message from a human to the AI model.\n",
    "messages = [\n",
    "    SystemMessage(content=\"You are a kind teacher that helps students with math problems and explain solutions in a pedagogic way.\"),\n",
    "    HumanMessage(content=\"What is 27 divided by 3?\"),\n",
    "]\n",
    "\n",
    "# Invoke the model with messages\n",
    "result = model.invoke(messages)\n",
    "print(f\"Answer from AI: {result.content}\")\n",
    "\n",
    "\n",
    "# Additional interaction via contextual messages\n",
    "messages.append(AIMessage(content=\"That is uncorrect, would you like to know why?\"))\n",
    "messages.append(HumanMessage(content=\"yes, please.\"))\n",
    "\n",
    "# Invoke the model with messages\n",
    "result = model.invoke(messages)\n",
    "print(f\"Answer from AI: {result.content}\")\n"
   ]
  },
  {
   "cell_type": "markdown",
   "id": "2cc379aa",
   "metadata": {},
   "source": [
    "## Chat history"
   ]
  },
  {
   "cell_type": "code",
   "execution_count": null,
   "id": "57d193c0",
   "metadata": {},
   "outputs": [],
   "source": [
    "from dotenv import load_dotenv\n",
    "from langchain_openai import ChatOpenAI\n",
    "from langchain.schema import AIMessage, HumanMessage, SystemMessage\n",
    "\n",
    "# Load environment variables from .env (in particular loads OPENAI_API_KEY)\n",
    "load_dotenv()\n",
    "\n",
    "# Create a ChatOpenAI model\n",
    "model = ChatOpenAI(model=\"gpt-4o-mini\")\n",
    "\n",
    "# Use a list to store messages\n",
    "chat_history = []  \n",
    "\n",
    "# Set an initial system message (optional)\n",
    "system_message = SystemMessage(content=\"You are a helpful AI assistant.\")\n",
    "chat_history.append(system_message)\n",
    "\n",
    "# Chat loop\n",
    "while True:\n",
    "    query = input(\"You: \")\n",
    "    if query.lower() == \"exit\":\n",
    "        break\n",
    "    chat_history.append(HumanMessage(content=query))  # Add user message\n",
    "\n",
    "    # Get AI response using history\n",
    "    result = model.invoke(chat_history)\n",
    "    response = result.content\n",
    "    chat_history.append(AIMessage(content=response))  # Add AI message\n",
    "\n",
    "    print(f\"AI: {response}\")\n",
    "\n",
    "\n",
    "print(\"---- Message History ----\")\n",
    "print(chat_history)\n"
   ]
  },
  {
   "cell_type": "markdown",
   "id": "d56c1c9e",
   "metadata": {},
   "source": [
    "## Storing chat history in a database\n",
    "source: https://python.langchain.com/docs/integrations/memory/"
   ]
  },
  {
   "cell_type": "code",
   "execution_count": null,
   "id": "5469c688",
   "metadata": {},
   "outputs": [],
   "source": [
    "# source: https://python.langchain.com/docs/integrations/memory/google_firestore_datastore/\n",
    "from dotenv import load_dotenv\n",
    "import redis\n",
    "from langchain_google_memorystore_redis import MemorystoreChatMessageHistory\n",
    "from langchain_openai import ChatOpenAI\n",
    "\n",
    "load_dotenv()\n",
    "\n",
    "# Connect to a Memorystore for Redis instance\n",
    "# docker run -d --name redis -p 6379:6379 redis:alpine \n",
    "redis_client = redis.Redis(host='localhost', port=6379)\n",
    "# redis_client = redis.from_url(\"redis://127.0.0.1:6379\")\n",
    "redis_key = \"Session1\"\n",
    "\n",
    "# Initialize message history\n",
    "message_history = MemorystoreChatMessageHistory(redis_client, session_id=redis_key)\n",
    "print(\"Current Chat History:\", message_history.messages)\n",
    "\n",
    "# Initialize Chat Model\n",
    "model = ChatOpenAI()\n",
    "print(\"Start chatting with the AI. Type 'exit' to quit.\")\n",
    "\n",
    "while True:\n",
    "    human_input = input(\"User: \")\n",
    "    if human_input.lower() == \"exit\":\n",
    "        break\n",
    "\n",
    "    message_history.add_user_message(human_input)\n",
    "\n",
    "    ai_response = model.invoke(message_history.messages)\n",
    "    message_history.add_ai_message(ai_response.content)\n",
    "\n",
    "    print(f\"AI: {ai_response.content}\")\n",
    "\n",
    "message_history = MemorystoreChatMessageHistory(redis_client, session_id=\"session1\")\n",
    "print(\"Current Chat History:\", message_history.messages)\n",
    "\n",
    "# output:\n",
    "# Current Chat History: [HumanMessage(content='this is a test', additional_kwargs={}, response_metadata={}), \n",
    "#                       HumanMessage(content='Tell me a joke', additional_kwargs={}, response_metadata={}),\n",
    "#                       AIMessage(content=\"Why don't scientists trust atoms? Because they make up everything!\", additional_kwargs={}, response_metadata={})\n",
    "# ]"
   ]
  },
  {
   "cell_type": "code",
   "execution_count": null,
   "id": "d609eea1",
   "metadata": {},
   "outputs": [],
   "source": []
  }
 ],
 "metadata": {
  "kernelspec": {
   "display_name": ".venv",
   "language": "python",
   "name": "python3"
  },
  "language_info": {
   "codemirror_mode": {
    "name": "ipython",
    "version": 3
   },
   "file_extension": ".py",
   "mimetype": "text/x-python",
   "name": "python",
   "nbconvert_exporter": "python",
   "pygments_lexer": "ipython3",
   "version": "3.12.10"
  }
 },
 "nbformat": 4,
 "nbformat_minor": 5
}
